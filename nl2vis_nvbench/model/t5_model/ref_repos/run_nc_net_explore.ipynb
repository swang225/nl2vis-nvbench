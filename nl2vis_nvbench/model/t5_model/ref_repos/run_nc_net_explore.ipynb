{
 "cells": [
  {
   "cell_type": "code",
   "execution_count": 6,
   "metadata": {},
   "outputs": [],
   "source": [
    "import os\n",
    "from os.path import join\n",
    "import json\n",
    "\n",
    "\n",
    "# To supress pandas FutureWarnings\n",
    "import warnings\n",
    "warnings.simplefilter(action='ignore', category=FutureWarning)"
   ]
  },
  {
   "cell_type": "code",
   "execution_count": 7,
   "metadata": {},
   "outputs": [],
   "source": [
    "NCNET_DIR = \"/user/w266/w266-project-carlos/ref_repos/ncNetNew\"\n",
    "DATABSE_DIR = \"/user/w266/w266-project-carlos/ref_repos/nvBench/database\"\n",
    "DATASET_DIR = \"/user/w266/w266-project-carlos/dataset\""
   ]
  },
  {
   "attachments": {},
   "cell_type": "markdown",
   "metadata": {},
   "source": [
    "## RUN\n",
    "- FROM: *./ref_repos/ncNetNew/model/ncnet/script/run.py*"
   ]
  },
  {
   "cell_type": "code",
   "execution_count": 8,
   "metadata": {},
   "outputs": [
    {
     "name": "stdout",
     "output_type": "stream",
     "text": [
      "[NL Question]: What is the average weight and year for each year. Plot them as line chart.\n",
      "[Chart Template]: None\n",
      "[Predicted VIS Query]: mark line data cars_data encoding x year y aggregate mean weight transform group x\n",
      "\n",
      "Vega-Lite Query:\n",
      "{\n",
      "  \"mark\": \"line\",\n",
      "  \"encoding\": {\n",
      "    \"x\": {\n",
      "      \"field\": \"year\",\n",
      "      \"type\": \"nominal\"\n",
      "    },\n",
      "    \"y\": {\n",
      "      \"field\": \"weight\",\n",
      "      \"type\": \"quantitative\",\n",
      "      \"aggregate\": \"mean\"\n",
      "    }\n",
      "  }\n",
      "}\n"
     ]
    }
   ],
   "source": [
    "from ncNetNew.model.ncnet import ncNet\n",
    "from ncNetNew.common.vega import to_vega_lite\n",
    "\n",
    "path1 = join(NCNET_DIR, \"save_models/trained_model.pt\")\n",
    "m1 = ncNet(\n",
    "    trained_model_path=path1\n",
    ")\n",
    "\n",
    "\n",
    "path2 = join(DATABSE_DIR, \"car_1/car_1.sqlite\")\n",
    "m1.specify_dataset(\n",
    "    data_type='sqlite3',\n",
    "    db_url=path2,\n",
    "    table_name='cars_data'\n",
    ")\n",
    "\n",
    "m1.show_dataset(top_rows=3)\n",
    "\n",
    "res = m1.predict(\n",
    "    nl_question=\"What is the average weight and year for each year. Plot them as line chart.\",\n",
    "    show_progress=False\n",
    ")\n",
    "\n",
    "print(\"\\nVega-Lite Query:\")\n",
    "res_vis = to_vega_lite(res)\n",
    "print(json.dumps(res_vis, indent=2))"
   ]
  }
 ],
 "metadata": {
  "kernelspec": {
   "display_name": "Python 3",
   "language": "python",
   "name": "python3"
  },
  "language_info": {
   "codemirror_mode": {
    "name": "ipython",
    "version": 3
   },
   "file_extension": ".py",
   "mimetype": "text/x-python",
   "name": "python",
   "nbconvert_exporter": "python",
   "pygments_lexer": "ipython3",
   "version": "3.10.10"
  },
  "orig_nbformat": 4
 },
 "nbformat": 4,
 "nbformat_minor": 2
}
