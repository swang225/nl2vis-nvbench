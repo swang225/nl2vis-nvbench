{
 "cells": [
  {
   "cell_type": "code",
   "execution_count": null,
   "metadata": {},
   "outputs": [],
   "source": [
    "%load_ext lab_black\n",
    "%load_ext autoreload\n",
    "%autoreload 2"
   ]
  },
  {
   "cell_type": "code",
   "execution_count": null,
   "metadata": {},
   "outputs": [],
   "source": [
    "# Set for local or colab\n",
    "\n",
    "import os\n",
    "from os.path import join\n",
    "import sys\n",
    "\n",
    "# Check if running in colab\n",
    "IN_COLAB = \"google.colab\" in sys.modules\n",
    "\n",
    "# Project defaults\n",
    "if IN_COLAB:\n",
    "    print(\"ENVIRONMENT: Colab\")\n",
    "\n",
    "    # Mount drive\n",
    "    from google.colab import drive\n",
    "\n",
    "    drive.mount(\"/content/drive\")\n",
    "\n",
    "    # Set the project directory\n",
    "    PROJECT_FOLDER = \"/content/drive/MyDrive/MIDS/w266/w266-project-carlos\"\n",
    "\n",
    "    # Install dependencies\n",
    "    !pip install -q transformers datasets pytorch-lightning SentencePiece #wandb\n",
    "else:\n",
    "    print(\"ENVIRONMENT: Local\")\n",
    "    # Set the project directory\n",
    "    PROJECT_FOLDER = \"/user/w266/w266-project-carlos\"\n",
    "\n",
    "os.chdir(PROJECT_FOLDER)\n",
    "\n",
    "# FOLDERS\n",
    "DATASET_FOLDER = join(PROJECT_FOLDER, \"dataset/dataset_final\")\n",
    "\n",
    "print(f\"Working directory is: {os.getcwd()}\")"
   ]
  },
  {
   "cell_type": "code",
   "execution_count": null,
   "metadata": {},
   "outputs": [],
   "source": [
    "import numpy as np\n",
    "import pandas as pd\n",
    "\n",
    "from transformers import RobertaTokenizer, T5ForConditionalGeneration, T5Tokenizer\n",
    "from datasets import Dataset\n",
    "\n",
    "from pprint import pprint\n",
    "\n",
    "from t5_model_support_functions import token_to_df, load_csv_files"
   ]
  },
  {
   "attachments": {},
   "cell_type": "markdown",
   "metadata": {},
   "source": [
    "### Set experiment folder and architectbase model type"
   ]
  },
  {
   "cell_type": "code",
   "execution_count": null,
   "metadata": {},
   "outputs": [],
   "source": [
    "EXPERIMENT_FOLDER = join(PROJECT_FOLDER, \"experiments/exp_01_t5-base/\")\n",
    "\n",
    "MODEL_TYPE = \"t5-base\"\n",
    "\n",
    "model = T5ForConditionalGeneration.from_pretrained(EXPERIMENT_FOLDER)\n",
    "\n",
    "if \"codet5\" in MODEL_TYPE:\n",
    "    tokenizer = RobertaTokenizer.from_pretrained(join(EXPERIMENT_FOLDER, \"tokenizer\"))\n",
    "else:\n",
    "    tokenizer = T5Tokenizer.from_pretrained(join(EXPERIMENT_FOLDER, \"tokenizer\"))"
   ]
  },
  {
   "cell_type": "code",
   "execution_count": null,
   "metadata": {},
   "outputs": [],
   "source": [
    "def test_inference_on_loaded_model():\n",
    "    TEXT_TO_SUMMARIZE = (\n",
    "        \"Nearly 800 thousand customers are scheduled to be affected by the shutoffs which are expected to last through at least midday tomorrow. \"\n",
    "        \"PG&E stated it scheduled the blackouts in response to forecasts for high winds amid dry conditions. \"\n",
    "        \"The aim is to reduce the risk of wildfires. \"\n",
    "        \"If Pacific Gas & Electric Co, a unit of PG&E Corp, goes through with another public safety power shutoff, \"\n",
    "        \" it would be the fourth round of mass blackouts imposed by the utility since Oct. 9, when some 730,000 customers were left in the dark. \"\n",
    "        \"The recent wave of precautionary shutoffs have drawn sharp criticism from Governor Gavin Newsom, state regulators and consumer activists as being overly broad in scale.\"\n",
    "        \"Newsom blames PG&E for doing too little to properly maintain and secure its power lines against wind damage.\"\n",
    "        \"Utility executives have acknowledged room for improvement while defending the sprawling scope of the power cutoffs as a matter of public safety.\"\n",
    "        \"The record breaking drought has made the current conditions even worse than in previous years. \"\n",
    "        \"It exponentially increases the probability of large scale wildfires. \"\n",
    "    )\n",
    "\n",
    "    TEXT_AND_PROMPT = \"summarize: \" + TEXT_TO_SUMMARIZE\n",
    "\n",
    "    print(\"Text to summirize:\")\n",
    "    pprint(TEXT_AND_PROMPT, width=100)\n",
    "\n",
    "    # Tokenize\n",
    "    inputs = tokenizer(\n",
    "        TEXT_AND_PROMPT, max_length=1024, truncation=True, return_tensors=\"pt\"\n",
    "    )\n",
    "\n",
    "    # Generate Summary\n",
    "    candidate_ids = model.generate(\n",
    "        inputs[\"input_ids\"],\n",
    "        num_beams=3,\n",
    "        no_repeat_ngram_size=3,\n",
    "        min_length=15,\n",
    "        max_length=35,\n",
    "    )\n",
    "\n",
    "    # Get candidate\n",
    "    candidate = tokenizer.batch_decode(\n",
    "        candidate_ids, skip_special_tokens=True, clean_up_tokenization_spaces=False\n",
    "    )\n",
    "\n",
    "    print(\"*\" * 100)\n",
    "    print(\"Candidate:\")\n",
    "    pprint(candidate, width=100)\n",
    "\n",
    "\n",
    "test_inference_on_loaded_model()"
   ]
  },
  {
   "attachments": {},
   "cell_type": "markdown",
   "metadata": {},
   "source": [
    "### Load `csv` data as `dataframes`"
   ]
  },
  {
   "cell_type": "code",
   "execution_count": null,
   "metadata": {},
   "outputs": [],
   "source": [
    "TARGET_FEATURES = [\"source\", \"labels\", \"token_types\"]\n",
    "\n",
    "df_train, df_val, df_test = load_csv_files(\n",
    "    [\n",
    "        join(DATASET_FOLDER, \"train.csv\"),\n",
    "        join(DATASET_FOLDER, \"dev.csv\"),\n",
    "        join(DATASET_FOLDER, \"test.csv\"),\n",
    "    ],\n",
    "    focus_columns=TARGET_FEATURES,\n",
    "    drop_duplicates=True,\n",
    "    dropna=True,\n",
    "    shuffle=False,\n",
    ")"
   ]
  },
  {
   "cell_type": "markdown",
   "metadata": {},
   "source": [
    "### Inference"
   ]
  },
  {
   "attachments": {},
   "cell_type": "markdown",
   "metadata": {},
   "source": [
    "#### Hyper-parameters"
   ]
  },
  {
   "cell_type": "code",
   "execution_count": null,
   "metadata": {},
   "outputs": [],
   "source": [
    "prefix = \"Generate vega_zero code: \"\n",
    "max_input_length = 162\n",
    "max_target_length = 60\n",
    "batch_size = 5\n",
    "\n",
    "DEV_TESTING = True\n",
    "DEV_LENGTH = 2"
   ]
  },
  {
   "cell_type": "code",
   "execution_count": null,
   "metadata": {},
   "outputs": [],
   "source": [
    "if DEV_TESTING:\n",
    "    train_dataset = Dataset.from_pandas(df_train.head(DEV_LENGTH), split=\"train\")\n",
    "    val_dataset = Dataset.from_pandas(df_val.head(DEV_LENGTH), split=\"validation\")\n",
    "    test_dataset = Dataset.from_pandas(df_test.head(DEV_LENGTH), split=\"test\")\n",
    "else:\n",
    "    train_dataset = Dataset.from_pandas(df_train, split=\"train\")\n",
    "    val_dataset = Dataset.from_pandas(df_val, split=\"validation\")\n",
    "    test_dataset = Dataset.from_pandas(df_test, split=\"test\")\n",
    "\n",
    "input_txt = test_dataset[\"source\"][0]\n",
    "ground_truth = test_dataset[\"labels\"][0]\n",
    "\n",
    "input_and_prompt = prefix + input_txt\n",
    "\n",
    "print(input_txt)\n",
    "print(ground_truth)"
   ]
  },
  {
   "cell_type": "code",
   "execution_count": null,
   "metadata": {},
   "outputs": [],
   "source": [
    "input_tokens = tokenizer(\n",
    "    input_and_prompt, max_length=max_input_length, truncation=True, return_tensors=\"pt\"\n",
    ")"
   ]
  },
  {
   "cell_type": "code",
   "execution_count": null,
   "metadata": {},
   "outputs": [],
   "source": [
    "# Generate Summary\n",
    "candidate_tokens = model.generate(\n",
    "    input_tokens[\"input_ids\"],\n",
    "    num_beams=5,\n",
    "    min_length=15,\n",
    "    max_length=max_target_length,\n",
    ")\n",
    "candidate = tokenizer.batch_decode(\n",
    "    candidate_tokens, skip_special_tokens=True, clean_up_tokenization_spaces=False\n",
    ")\n",
    "\n",
    "print(\"Candidate\")\n",
    "print(candidate[0])\n",
    "\n",
    "print(\"\\nGround truth\")\n",
    "print(ground_truth)"
   ]
  },
  {
   "cell_type": "code",
   "execution_count": null,
   "metadata": {},
   "outputs": [],
   "source": [
    "candidate_list = []\n",
    "\n",
    "print(\"Processing dataset\")\n",
    "\n",
    "for i in range(len(test_dataset)):\n",
    "    input_txt = test_dataset[\"source\"][i]\n",
    "    ground_truth = test_dataset[\"labels\"][i]\n",
    "\n",
    "    input_and_prompt = prefix + input_txt\n",
    "\n",
    "    input_tokens = tokenizer(\n",
    "        input_and_prompt,\n",
    "        max_length=max_input_length,\n",
    "        truncation=True,\n",
    "        return_tensors=\"pt\",\n",
    "    )\n",
    "\n",
    "    candidate_tokens = model.generate(\n",
    "        input_tokens[\"input_ids\"],\n",
    "        num_beams=5,\n",
    "        min_length=15,\n",
    "        max_length=max_target_length,\n",
    "    )\n",
    "    candidate = tokenizer.batch_decode(\n",
    "        candidate_tokens, skip_special_tokens=True, clean_up_tokenization_spaces=False\n",
    "    )\n",
    "\n",
    "    candidate_list.append(candidate[0])\n",
    "\n",
    "    if i % 1 == 0:\n",
    "        print(f\"Processed {i+1} / {len(test_dataset)}\")"
   ]
  },
  {
   "cell_type": "code",
   "execution_count": null,
   "metadata": {},
   "outputs": [],
   "source": [
    "df_results = pd.DataFrame()\n",
    "df_results[\"source\"] = test_dataset[\"source\"]\n",
    "df_results[\"labels\"] = test_dataset[\"labels\"]\n",
    "df_results[\"prediction\"] = candidate_list\n",
    "\n",
    "df_results.to_csv(join(EXPERIMENT_FOLDER,\"results.csv\"))"
   ]
  },
  {
   "cell_type": "code",
   "execution_count": null,
   "metadata": {},
   "outputs": [],
   "source": []
  }
 ],
 "metadata": {
  "kernelspec": {
   "display_name": "Python 3",
   "language": "python",
   "name": "python3"
  },
  "language_info": {
   "codemirror_mode": {
    "name": "ipython",
    "version": 3
   },
   "file_extension": ".py",
   "mimetype": "text/x-python",
   "name": "python",
   "nbconvert_exporter": "python",
   "pygments_lexer": "ipython3",
   "version": "3.10.10"
  },
  "orig_nbformat": 4
 },
 "nbformat": 4,
 "nbformat_minor": 2
}
