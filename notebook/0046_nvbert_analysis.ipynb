{
 "cells": [
  {
   "cell_type": "code",
   "execution_count": 1,
   "id": "7bdbee16-aaba-4507-8a44-99a15e1144c6",
   "metadata": {},
   "outputs": [],
   "source": [
    "import pandas as pd"
   ]
  },
  {
   "cell_type": "code",
   "execution_count": 2,
   "id": "7c960834-67db-4dc4-abe1-150408e597d8",
   "metadata": {},
   "outputs": [],
   "source": [
    "res = pd.read_csv(\"C:/Users/aphri/Documents/t0002/pycharm/data/ncnet/nv_bert_eval_res_df2.csv\")"
   ]
  },
  {
   "cell_type": "code",
   "execution_count": 5,
   "id": "7337a245-dc57-4c2e-9c1c-053e96aec6be",
   "metadata": {},
   "outputs": [
    {
     "data": {
      "text/html": [
       "<div>\n",
       "<style scoped>\n",
       "    .dataframe tbody tr th:only-of-type {\n",
       "        vertical-align: middle;\n",
       "    }\n",
       "\n",
       "    .dataframe tbody tr th {\n",
       "        vertical-align: top;\n",
       "    }\n",
       "\n",
       "    .dataframe thead th {\n",
       "        text-align: right;\n",
       "    }\n",
       "</style>\n",
       "<table border=\"1\" class=\"dataframe\">\n",
       "  <thead>\n",
       "    <tr style=\"text-align: right;\">\n",
       "      <th></th>\n",
       "      <th>Unnamed: 0</th>\n",
       "      <th>source</th>\n",
       "      <th>target</th>\n",
       "      <th>predicted</th>\n",
       "      <th>incorrect target</th>\n",
       "      <th>incorrect prediction</th>\n",
       "      <th>correct target</th>\n",
       "      <th>correct prediction</th>\n",
       "      <th>correct count</th>\n",
       "      <th>total count</th>\n",
       "    </tr>\n",
       "  </thead>\n",
       "  <tbody>\n",
       "    <tr>\n",
       "      <th>0</th>\n",
       "      <td>0</td>\n",
       "      <td>('&lt;N&gt; Plot how many booking start date by grou...</td>\n",
       "      <td>mark bar data apartment_bookings encoding x bo...</td>\n",
       "      <td>mark bar data employees encoding x booking_end...</td>\n",
       "      <td>apartment_bookings booking_start_date booking_...</td>\n",
       "      <td>employees booking_end_date booking_end_date bi...</td>\n",
       "      <td>mark bar data encoding x y aggregate count tra...</td>\n",
       "      <td>mark bar data encoding x y aggregate count tra...</td>\n",
       "      <td>15</td>\n",
       "      <td>20</td>\n",
       "    </tr>\n",
       "    <tr>\n",
       "      <th>1</th>\n",
       "      <td>1</td>\n",
       "      <td>('&lt;N&gt; Plot how many booking start date by grou...</td>\n",
       "      <td>mark bar data apartment_bookings encoding x bo...</td>\n",
       "      <td>mark bar data employees encoding x booking_end...</td>\n",
       "      <td>apartment_bookings booking_start_date booking_...</td>\n",
       "      <td>employees booking_end_date booking_end_date bi...</td>\n",
       "      <td>mark bar data encoding x y aggregate count tra...</td>\n",
       "      <td>mark bar data encoding x y aggregate count tra...</td>\n",
       "      <td>15</td>\n",
       "      <td>20</td>\n",
       "    </tr>\n",
       "    <tr>\n",
       "      <th>2</th>\n",
       "      <td>2</td>\n",
       "      <td>('&lt;N&gt; When do all the researcher role staff st...</td>\n",
       "      <td>mark line data project_staff encoding x date_f...</td>\n",
       "      <td>mark bar data employees encoding x date_to y a...</td>\n",
       "      <td>line project_staff date_from date_from sort asc</td>\n",
       "      <td>bar employees date_to date_to bin desc</td>\n",
       "      <td>mark data encoding x y aggregate count transfo...</td>\n",
       "      <td>mark data encoding x y aggregate count transfo...</td>\n",
       "      <td>14</td>\n",
       "      <td>20</td>\n",
       "    </tr>\n",
       "    <tr>\n",
       "      <th>3</th>\n",
       "      <td>3</td>\n",
       "      <td>('&lt;N&gt; When do all the researcher role staff st...</td>\n",
       "      <td>mark line data project_staff encoding x date_f...</td>\n",
       "      <td>mark bar data employees encoding x date_to y a...</td>\n",
       "      <td>line project_staff date_from date_from sort asc</td>\n",
       "      <td>bar employees date_to date_to bin desc</td>\n",
       "      <td>mark data encoding x y aggregate count transfo...</td>\n",
       "      <td>mark data encoding x y aggregate count transfo...</td>\n",
       "      <td>14</td>\n",
       "      <td>20</td>\n",
       "    </tr>\n",
       "    <tr>\n",
       "      <th>4</th>\n",
       "      <td>4</td>\n",
       "      <td>('&lt;N&gt; Return a bar chart about the distributio...</td>\n",
       "      <td>mark bar data hiring encoding x start_from y a...</td>\n",
       "      <td>mark bar data employees encoding x start_from ...</td>\n",
       "      <td>hiring count sort asc</td>\n",
       "      <td>employees mean bin desc</td>\n",
       "      <td>mark bar data encoding x start_from y aggregat...</td>\n",
       "      <td>mark bar data encoding x start_from y aggregat...</td>\n",
       "      <td>16</td>\n",
       "      <td>20</td>\n",
       "    </tr>\n",
       "  </tbody>\n",
       "</table>\n",
       "</div>"
      ],
      "text/plain": [
       "   Unnamed: 0                                             source  \\\n",
       "0           0  ('<N> Plot how many booking start date by grou...   \n",
       "1           1  ('<N> Plot how many booking start date by grou...   \n",
       "2           2  ('<N> When do all the researcher role staff st...   \n",
       "3           3  ('<N> When do all the researcher role staff st...   \n",
       "4           4  ('<N> Return a bar chart about the distributio...   \n",
       "\n",
       "                                              target  \\\n",
       "0  mark bar data apartment_bookings encoding x bo...   \n",
       "1  mark bar data apartment_bookings encoding x bo...   \n",
       "2  mark line data project_staff encoding x date_f...   \n",
       "3  mark line data project_staff encoding x date_f...   \n",
       "4  mark bar data hiring encoding x start_from y a...   \n",
       "\n",
       "                                           predicted  \\\n",
       "0  mark bar data employees encoding x booking_end...   \n",
       "1  mark bar data employees encoding x booking_end...   \n",
       "2  mark bar data employees encoding x date_to y a...   \n",
       "3  mark bar data employees encoding x date_to y a...   \n",
       "4  mark bar data employees encoding x start_from ...   \n",
       "\n",
       "                                    incorrect target  \\\n",
       "0  apartment_bookings booking_start_date booking_...   \n",
       "1  apartment_bookings booking_start_date booking_...   \n",
       "2    line project_staff date_from date_from sort asc   \n",
       "3    line project_staff date_from date_from sort asc   \n",
       "4                              hiring count sort asc   \n",
       "\n",
       "                                incorrect prediction  \\\n",
       "0  employees booking_end_date booking_end_date bi...   \n",
       "1  employees booking_end_date booking_end_date bi...   \n",
       "2             bar employees date_to date_to bin desc   \n",
       "3             bar employees date_to date_to bin desc   \n",
       "4                            employees mean bin desc   \n",
       "\n",
       "                                      correct target  \\\n",
       "0  mark bar data encoding x y aggregate count tra...   \n",
       "1  mark bar data encoding x y aggregate count tra...   \n",
       "2  mark data encoding x y aggregate count transfo...   \n",
       "3  mark data encoding x y aggregate count transfo...   \n",
       "4  mark bar data encoding x start_from y aggregat...   \n",
       "\n",
       "                                  correct prediction  correct count  \\\n",
       "0  mark bar data encoding x y aggregate count tra...             15   \n",
       "1  mark bar data encoding x y aggregate count tra...             15   \n",
       "2  mark data encoding x y aggregate count transfo...             14   \n",
       "3  mark data encoding x y aggregate count transfo...             14   \n",
       "4  mark bar data encoding x start_from y aggregat...             16   \n",
       "\n",
       "   total count  \n",
       "0           20  \n",
       "1           20  \n",
       "2           20  \n",
       "3           20  \n",
       "4           20  "
      ]
     },
     "execution_count": 5,
     "metadata": {},
     "output_type": "execute_result"
    }
   ],
   "source": [
    "res.head()"
   ]
  },
  {
   "cell_type": "code",
   "execution_count": 4,
   "id": "8210fb56-2497-4568-84ba-b39bd9e967dc",
   "metadata": {},
   "outputs": [
    {
     "data": {
      "text/plain": [
       "4920"
      ]
     },
     "execution_count": 4,
     "metadata": {},
     "output_type": "execute_result"
    }
   ],
   "source": [
    "len(res)"
   ]
  },
  {
   "cell_type": "code",
   "execution_count": 18,
   "id": "918fa6fa-44ca-4daa-a65a-a80d9a7fc8d4",
   "metadata": {},
   "outputs": [
    {
     "data": {
      "text/plain": [
       "'mark bar data encoding x date_account_opened y aggregate count date_account_opened other_account_details transform y bin x by <eos>'"
      ]
     },
     "execution_count": 18,
     "metadata": {},
     "output_type": "execute_result"
    }
   ],
   "source": [
    "res[res[\"correct count\"] == 17].iloc[0][\"correct target\"]"
   ]
  },
  {
   "cell_type": "code",
   "execution_count": 19,
   "id": "63ef3c3e-7820-43f3-b9ec-87e6390b37d2",
   "metadata": {},
   "outputs": [
    {
     "data": {
      "text/plain": [
       "'accounts color sort asc weekday'"
      ]
     },
     "execution_count": 19,
     "metadata": {},
     "output_type": "execute_result"
    }
   ],
   "source": [
    "res[res[\"correct count\"] == 17].iloc[0][\"incorrect target\"]"
   ]
  },
  {
   "cell_type": "code",
   "execution_count": 20,
   "id": "a317c015-5eee-4c61-af93-9b2af71286b6",
   "metadata": {},
   "outputs": [
    {
     "data": {
      "text/plain": [
       "'employees transform bin desc year'"
      ]
     },
     "execution_count": 20,
     "metadata": {},
     "output_type": "execute_result"
    }
   ],
   "source": [
    "res[res[\"correct count\"] == 17].iloc[0][\"incorrect prediction\"]"
   ]
  },
  {
   "cell_type": "code",
   "execution_count": 21,
   "id": "43a85ad3-a81a-4b1e-9bc9-f1e6b51257e5",
   "metadata": {},
   "outputs": [
    {
     "data": {
      "text/plain": [
       "\"('<N> How many accounts are opened in each day ? Bin the account open day by weekday and group by other account details in a stacked bar chart , and rank by the y axis in ascending . </N> <C> mark [T] data accounts encoding x [X] y aggregate [AggFunction] [Y] color [Z] transform filter [F] group [G] bin [B] sort [S] topk [K] </C> <D> accounts <COL> other_account_details </COL> <VAL> </VAL> </D>',)\""
      ]
     },
     "execution_count": 21,
     "metadata": {},
     "output_type": "execute_result"
    }
   ],
   "source": [
    "res[res[\"correct count\"] == 17].iloc[0][\"source\"]"
   ]
  },
  {
   "cell_type": "code",
   "execution_count": 77,
   "id": "09ae19b0-6534-4a33-9b33-f7541096750d",
   "metadata": {},
   "outputs": [],
   "source": [
    "template_words_easy = set([\n",
    "    \"mark\", \"data\", \"encoding\", \"aggregate\", \"transform\",\n",
    "]) \n",
    "\n",
    "template_words_hard = set([\n",
    "     \"x\", \"y\", \"color\", \"filter\",\n",
    "    \"group\", \"bin\", \"sort\", \"topk\", \"none\"\n",
    "]) "
   ]
  },
  {
   "cell_type": "code",
   "execution_count": 156,
   "id": "79f7979a-30d8-437e-b60c-15c7c055c531",
   "metadata": {},
   "outputs": [],
   "source": [
    "def check_template_incorrect(incorrect_trg, template_words=template_words):\n",
    "    trg_list = incorrect_trg.split(\" \")\n",
    "    \n",
    "    easy = []\n",
    "    hard = []\n",
    "    for w in trg_list:\n",
    "        if w in template_words_easy:\n",
    "            easy.append(w)\n",
    "        if w in template_words_hard:\n",
    "            hard.append(w)\n",
    "    \n",
    "    return easy, hard\n",
    "\n",
    "def count_template(trg, template_words=template_words):\n",
    "    trg_list = trg.split(\" \")\n",
    "    \n",
    "    count = 0\n",
    "    count_easy = 0\n",
    "    count_hard = 0\n",
    "    for w in trg_list:\n",
    "        if w in template_words_easy:\n",
    "            count_easy += 1  \n",
    "        elif w in template_words_hard:\n",
    "            count_hard += 1\n",
    "            \n",
    "    count = count_easy + count_hard\n",
    "\n",
    "    return count, count_easy, count_hard"
   ]
  },
  {
   "cell_type": "code",
   "execution_count": 157,
   "id": "b96513b0-0456-45ca-b872-881c811589a6",
   "metadata": {},
   "outputs": [],
   "source": [
    "def update_res(res):\n",
    "    \n",
    "    easy_list = []\n",
    "    hard_list = []\n",
    "    count_list = []\n",
    "    count_easy_list = []\n",
    "    count_hard_list = []\n",
    "    for idx, row in res.iterrows():\n",
    "        easy, hard = check_template_incorrect(row[\"incorrect target\"])\n",
    "        count, count_easy, count_hard = count_template(row[\"target\"])\n",
    "        easy_list.append(easy)\n",
    "        hard_list.append(hard)\n",
    "        count_list.append(count)\n",
    "        count_easy_list.append(count_easy)\n",
    "        count_hard_list.append(count_hard)\n",
    "        \n",
    "    res[\"incorrect easy\"] = easy_list\n",
    "    res[\"incorrect easy count\"] = [len(i) for i in easy_list]\n",
    "    res[\"incorrect hard\"] = hard_list\n",
    "    res[\"incorrect hard count\"] = [len(i) for i in hard_list]\n",
    "    res[\"template count\"] = count_list\n",
    "    res[\"template easy count\"] = count_easy_list\n",
    "    res[\"template hard count\"] = count_hard_list"
   ]
  },
  {
   "cell_type": "code",
   "execution_count": 158,
   "id": "4a009c9c-82c4-4500-91d8-e36d78985bc9",
   "metadata": {},
   "outputs": [],
   "source": [
    "update_res(res)"
   ]
  },
  {
   "cell_type": "code",
   "execution_count": 159,
   "id": "4050a419-f1a7-4a30-84f6-1daa665d370e",
   "metadata": {},
   "outputs": [
    {
     "data": {
      "text/html": [
       "<div>\n",
       "<style scoped>\n",
       "    .dataframe tbody tr th:only-of-type {\n",
       "        vertical-align: middle;\n",
       "    }\n",
       "\n",
       "    .dataframe tbody tr th {\n",
       "        vertical-align: top;\n",
       "    }\n",
       "\n",
       "    .dataframe thead th {\n",
       "        text-align: right;\n",
       "    }\n",
       "</style>\n",
       "<table border=\"1\" class=\"dataframe\">\n",
       "  <thead>\n",
       "    <tr style=\"text-align: right;\">\n",
       "      <th></th>\n",
       "      <th>Unnamed: 0</th>\n",
       "      <th>source</th>\n",
       "      <th>target</th>\n",
       "      <th>predicted</th>\n",
       "      <th>incorrect target</th>\n",
       "      <th>incorrect prediction</th>\n",
       "      <th>correct target</th>\n",
       "      <th>correct prediction</th>\n",
       "      <th>correct count</th>\n",
       "      <th>total count</th>\n",
       "      <th>...</th>\n",
       "      <th>incorrect easy</th>\n",
       "      <th>incorrect easy count</th>\n",
       "      <th>incorrect hard</th>\n",
       "      <th>incorrect hard count</th>\n",
       "      <th>template count</th>\n",
       "      <th>correct template count</th>\n",
       "      <th>incorrect non-template count</th>\n",
       "      <th>non-template count</th>\n",
       "      <th>template easy count</th>\n",
       "      <th>template hard count</th>\n",
       "    </tr>\n",
       "  </thead>\n",
       "  <tbody>\n",
       "    <tr>\n",
       "      <th>0</th>\n",
       "      <td>0</td>\n",
       "      <td>('&lt;N&gt; Plot how many booking start date by grou...</td>\n",
       "      <td>mark bar data apartment_bookings encoding x bo...</td>\n",
       "      <td>mark bar data employees encoding x booking_end...</td>\n",
       "      <td>apartment_bookings booking_start_date booking_...</td>\n",
       "      <td>employees booking_end_date booking_end_date bi...</td>\n",
       "      <td>mark bar data encoding x y aggregate count tra...</td>\n",
       "      <td>mark bar data encoding x y aggregate count tra...</td>\n",
       "      <td>15</td>\n",
       "      <td>20</td>\n",
       "      <td>...</td>\n",
       "      <td>[]</td>\n",
       "      <td>0</td>\n",
       "      <td>[sort]</td>\n",
       "      <td>1</td>\n",
       "      <td>11</td>\n",
       "      <td>10</td>\n",
       "      <td>4</td>\n",
       "      <td>9</td>\n",
       "      <td>5</td>\n",
       "      <td>6</td>\n",
       "    </tr>\n",
       "    <tr>\n",
       "      <th>1</th>\n",
       "      <td>1</td>\n",
       "      <td>('&lt;N&gt; Plot how many booking start date by grou...</td>\n",
       "      <td>mark bar data apartment_bookings encoding x bo...</td>\n",
       "      <td>mark bar data employees encoding x booking_end...</td>\n",
       "      <td>apartment_bookings booking_start_date booking_...</td>\n",
       "      <td>employees booking_end_date booking_end_date bi...</td>\n",
       "      <td>mark bar data encoding x y aggregate count tra...</td>\n",
       "      <td>mark bar data encoding x y aggregate count tra...</td>\n",
       "      <td>15</td>\n",
       "      <td>20</td>\n",
       "      <td>...</td>\n",
       "      <td>[]</td>\n",
       "      <td>0</td>\n",
       "      <td>[sort]</td>\n",
       "      <td>1</td>\n",
       "      <td>11</td>\n",
       "      <td>10</td>\n",
       "      <td>4</td>\n",
       "      <td>9</td>\n",
       "      <td>5</td>\n",
       "      <td>6</td>\n",
       "    </tr>\n",
       "    <tr>\n",
       "      <th>2</th>\n",
       "      <td>2</td>\n",
       "      <td>('&lt;N&gt; When do all the researcher role staff st...</td>\n",
       "      <td>mark line data project_staff encoding x date_f...</td>\n",
       "      <td>mark bar data employees encoding x date_to y a...</td>\n",
       "      <td>line project_staff date_from date_from sort asc</td>\n",
       "      <td>bar employees date_to date_to bin desc</td>\n",
       "      <td>mark data encoding x y aggregate count transfo...</td>\n",
       "      <td>mark data encoding x y aggregate count transfo...</td>\n",
       "      <td>14</td>\n",
       "      <td>20</td>\n",
       "      <td>...</td>\n",
       "      <td>[]</td>\n",
       "      <td>0</td>\n",
       "      <td>[sort]</td>\n",
       "      <td>1</td>\n",
       "      <td>11</td>\n",
       "      <td>10</td>\n",
       "      <td>5</td>\n",
       "      <td>9</td>\n",
       "      <td>5</td>\n",
       "      <td>6</td>\n",
       "    </tr>\n",
       "    <tr>\n",
       "      <th>3</th>\n",
       "      <td>3</td>\n",
       "      <td>('&lt;N&gt; When do all the researcher role staff st...</td>\n",
       "      <td>mark line data project_staff encoding x date_f...</td>\n",
       "      <td>mark bar data employees encoding x date_to y a...</td>\n",
       "      <td>line project_staff date_from date_from sort asc</td>\n",
       "      <td>bar employees date_to date_to bin desc</td>\n",
       "      <td>mark data encoding x y aggregate count transfo...</td>\n",
       "      <td>mark data encoding x y aggregate count transfo...</td>\n",
       "      <td>14</td>\n",
       "      <td>20</td>\n",
       "      <td>...</td>\n",
       "      <td>[]</td>\n",
       "      <td>0</td>\n",
       "      <td>[sort]</td>\n",
       "      <td>1</td>\n",
       "      <td>11</td>\n",
       "      <td>10</td>\n",
       "      <td>5</td>\n",
       "      <td>9</td>\n",
       "      <td>5</td>\n",
       "      <td>6</td>\n",
       "    </tr>\n",
       "    <tr>\n",
       "      <th>4</th>\n",
       "      <td>4</td>\n",
       "      <td>('&lt;N&gt; Return a bar chart about the distributio...</td>\n",
       "      <td>mark bar data hiring encoding x start_from y a...</td>\n",
       "      <td>mark bar data employees encoding x start_from ...</td>\n",
       "      <td>hiring count sort asc</td>\n",
       "      <td>employees mean bin desc</td>\n",
       "      <td>mark bar data encoding x start_from y aggregat...</td>\n",
       "      <td>mark bar data encoding x start_from y aggregat...</td>\n",
       "      <td>16</td>\n",
       "      <td>20</td>\n",
       "      <td>...</td>\n",
       "      <td>[]</td>\n",
       "      <td>0</td>\n",
       "      <td>[sort]</td>\n",
       "      <td>1</td>\n",
       "      <td>11</td>\n",
       "      <td>10</td>\n",
       "      <td>3</td>\n",
       "      <td>9</td>\n",
       "      <td>5</td>\n",
       "      <td>6</td>\n",
       "    </tr>\n",
       "  </tbody>\n",
       "</table>\n",
       "<p>5 rows × 22 columns</p>\n",
       "</div>"
      ],
      "text/plain": [
       "   Unnamed: 0                                             source  \\\n",
       "0           0  ('<N> Plot how many booking start date by grou...   \n",
       "1           1  ('<N> Plot how many booking start date by grou...   \n",
       "2           2  ('<N> When do all the researcher role staff st...   \n",
       "3           3  ('<N> When do all the researcher role staff st...   \n",
       "4           4  ('<N> Return a bar chart about the distributio...   \n",
       "\n",
       "                                              target  \\\n",
       "0  mark bar data apartment_bookings encoding x bo...   \n",
       "1  mark bar data apartment_bookings encoding x bo...   \n",
       "2  mark line data project_staff encoding x date_f...   \n",
       "3  mark line data project_staff encoding x date_f...   \n",
       "4  mark bar data hiring encoding x start_from y a...   \n",
       "\n",
       "                                           predicted  \\\n",
       "0  mark bar data employees encoding x booking_end...   \n",
       "1  mark bar data employees encoding x booking_end...   \n",
       "2  mark bar data employees encoding x date_to y a...   \n",
       "3  mark bar data employees encoding x date_to y a...   \n",
       "4  mark bar data employees encoding x start_from ...   \n",
       "\n",
       "                                    incorrect target  \\\n",
       "0  apartment_bookings booking_start_date booking_...   \n",
       "1  apartment_bookings booking_start_date booking_...   \n",
       "2    line project_staff date_from date_from sort asc   \n",
       "3    line project_staff date_from date_from sort asc   \n",
       "4                              hiring count sort asc   \n",
       "\n",
       "                                incorrect prediction  \\\n",
       "0  employees booking_end_date booking_end_date bi...   \n",
       "1  employees booking_end_date booking_end_date bi...   \n",
       "2             bar employees date_to date_to bin desc   \n",
       "3             bar employees date_to date_to bin desc   \n",
       "4                            employees mean bin desc   \n",
       "\n",
       "                                      correct target  \\\n",
       "0  mark bar data encoding x y aggregate count tra...   \n",
       "1  mark bar data encoding x y aggregate count tra...   \n",
       "2  mark data encoding x y aggregate count transfo...   \n",
       "3  mark data encoding x y aggregate count transfo...   \n",
       "4  mark bar data encoding x start_from y aggregat...   \n",
       "\n",
       "                                  correct prediction  correct count  \\\n",
       "0  mark bar data encoding x y aggregate count tra...             15   \n",
       "1  mark bar data encoding x y aggregate count tra...             15   \n",
       "2  mark data encoding x y aggregate count transfo...             14   \n",
       "3  mark data encoding x y aggregate count transfo...             14   \n",
       "4  mark bar data encoding x start_from y aggregat...             16   \n",
       "\n",
       "   total count  ... incorrect easy  incorrect easy count incorrect hard  \\\n",
       "0           20  ...             []                     0         [sort]   \n",
       "1           20  ...             []                     0         [sort]   \n",
       "2           20  ...             []                     0         [sort]   \n",
       "3           20  ...             []                     0         [sort]   \n",
       "4           20  ...             []                     0         [sort]   \n",
       "\n",
       "   incorrect hard count template count  correct template count  \\\n",
       "0                     1             11                      10   \n",
       "1                     1             11                      10   \n",
       "2                     1             11                      10   \n",
       "3                     1             11                      10   \n",
       "4                     1             11                      10   \n",
       "\n",
       "   incorrect non-template count  non-template count  template easy count  \\\n",
       "0                             4                   9                    5   \n",
       "1                             4                   9                    5   \n",
       "2                             5                   9                    5   \n",
       "3                             5                   9                    5   \n",
       "4                             3                   9                    5   \n",
       "\n",
       "   template hard count  \n",
       "0                    6  \n",
       "1                    6  \n",
       "2                    6  \n",
       "3                    6  \n",
       "4                    6  \n",
       "\n",
       "[5 rows x 22 columns]"
      ]
     },
     "execution_count": 159,
     "metadata": {},
     "output_type": "execute_result"
    }
   ],
   "source": [
    "res.head()"
   ]
  },
  {
   "cell_type": "code",
   "execution_count": 166,
   "id": "8115b713-cd6e-47a2-8319-c092fa69eed7",
   "metadata": {},
   "outputs": [
    {
     "data": {
      "text/html": [
       "<div>\n",
       "<style scoped>\n",
       "    .dataframe tbody tr th:only-of-type {\n",
       "        vertical-align: middle;\n",
       "    }\n",
       "\n",
       "    .dataframe tbody tr th {\n",
       "        vertical-align: top;\n",
       "    }\n",
       "\n",
       "    .dataframe thead th {\n",
       "        text-align: right;\n",
       "    }\n",
       "</style>\n",
       "<table border=\"1\" class=\"dataframe\">\n",
       "  <thead>\n",
       "    <tr style=\"text-align: right;\">\n",
       "      <th></th>\n",
       "      <th>Unnamed: 0</th>\n",
       "      <th>source</th>\n",
       "      <th>target</th>\n",
       "      <th>predicted</th>\n",
       "      <th>incorrect target</th>\n",
       "      <th>incorrect prediction</th>\n",
       "      <th>correct target</th>\n",
       "      <th>correct prediction</th>\n",
       "      <th>correct count</th>\n",
       "      <th>total count</th>\n",
       "      <th>...</th>\n",
       "      <th>incorrect easy</th>\n",
       "      <th>incorrect easy count</th>\n",
       "      <th>incorrect hard</th>\n",
       "      <th>incorrect hard count</th>\n",
       "      <th>template count</th>\n",
       "      <th>correct template count</th>\n",
       "      <th>incorrect non-template count</th>\n",
       "      <th>non-template count</th>\n",
       "      <th>template easy count</th>\n",
       "      <th>template hard count</th>\n",
       "    </tr>\n",
       "  </thead>\n",
       "  <tbody>\n",
       "    <tr>\n",
       "      <th>94</th>\n",
       "      <td>94</td>\n",
       "      <td>('&lt;N&gt; Give me the trend about the average of E...</td>\n",
       "      <td>mark line data hiring encoding x start_from y ...</td>\n",
       "      <td>mark bar data employees encoding x start_from ...</td>\n",
       "      <td>line hiring transform sort asc</td>\n",
       "      <td>bar employees color bin desc</td>\n",
       "      <td>mark data encoding x start_from y aggregate me...</td>\n",
       "      <td>mark data encoding x start_from y aggregate me...</td>\n",
       "      <td>15</td>\n",
       "      <td>20</td>\n",
       "      <td>...</td>\n",
       "      <td>[transform]</td>\n",
       "      <td>1</td>\n",
       "      <td>[sort]</td>\n",
       "      <td>1</td>\n",
       "      <td>11</td>\n",
       "      <td>9</td>\n",
       "      <td>3</td>\n",
       "      <td>9</td>\n",
       "      <td>5</td>\n",
       "      <td>6</td>\n",
       "    </tr>\n",
       "    <tr>\n",
       "      <th>95</th>\n",
       "      <td>95</td>\n",
       "      <td>('&lt;N&gt; Give me the trend about the average of E...</td>\n",
       "      <td>mark line data hiring encoding x start_from y ...</td>\n",
       "      <td>mark bar data employees encoding x start_from ...</td>\n",
       "      <td>line hiring transform sort asc</td>\n",
       "      <td>bar employees color bin desc</td>\n",
       "      <td>mark data encoding x start_from y aggregate me...</td>\n",
       "      <td>mark data encoding x start_from y aggregate me...</td>\n",
       "      <td>15</td>\n",
       "      <td>20</td>\n",
       "      <td>...</td>\n",
       "      <td>[transform]</td>\n",
       "      <td>1</td>\n",
       "      <td>[sort]</td>\n",
       "      <td>1</td>\n",
       "      <td>11</td>\n",
       "      <td>9</td>\n",
       "      <td>3</td>\n",
       "      <td>9</td>\n",
       "      <td>5</td>\n",
       "      <td>6</td>\n",
       "    </tr>\n",
       "    <tr>\n",
       "      <th>130</th>\n",
       "      <td>130</td>\n",
       "      <td>('&lt;N&gt; A line chart shows the change of the ave...</td>\n",
       "      <td>mark line data hiring encoding x start_from y ...</td>\n",
       "      <td>mark bar data employees encoding x start_from ...</td>\n",
       "      <td>line hiring transform sort asc</td>\n",
       "      <td>bar employees color bin desc</td>\n",
       "      <td>mark data encoding x start_from y aggregate me...</td>\n",
       "      <td>mark data encoding x start_from y aggregate me...</td>\n",
       "      <td>15</td>\n",
       "      <td>20</td>\n",
       "      <td>...</td>\n",
       "      <td>[transform]</td>\n",
       "      <td>1</td>\n",
       "      <td>[sort]</td>\n",
       "      <td>1</td>\n",
       "      <td>11</td>\n",
       "      <td>9</td>\n",
       "      <td>3</td>\n",
       "      <td>9</td>\n",
       "      <td>5</td>\n",
       "      <td>6</td>\n",
       "    </tr>\n",
       "    <tr>\n",
       "      <th>131</th>\n",
       "      <td>131</td>\n",
       "      <td>('&lt;N&gt; A line chart shows the change of the ave...</td>\n",
       "      <td>mark line data hiring encoding x start_from y ...</td>\n",
       "      <td>mark bar data employees encoding x start_from ...</td>\n",
       "      <td>line hiring transform sort asc</td>\n",
       "      <td>bar employees color bin desc</td>\n",
       "      <td>mark data encoding x start_from y aggregate me...</td>\n",
       "      <td>mark data encoding x start_from y aggregate me...</td>\n",
       "      <td>15</td>\n",
       "      <td>20</td>\n",
       "      <td>...</td>\n",
       "      <td>[transform]</td>\n",
       "      <td>1</td>\n",
       "      <td>[sort]</td>\n",
       "      <td>1</td>\n",
       "      <td>11</td>\n",
       "      <td>9</td>\n",
       "      <td>3</td>\n",
       "      <td>9</td>\n",
       "      <td>5</td>\n",
       "      <td>6</td>\n",
       "    </tr>\n",
       "    <tr>\n",
       "      <th>428</th>\n",
       "      <td>428</td>\n",
       "      <td>('&lt;N&gt; Show me about the change of the average ...</td>\n",
       "      <td>mark line data hiring encoding x start_from y ...</td>\n",
       "      <td>mark bar data employees encoding x start_from ...</td>\n",
       "      <td>line hiring transform sort asc</td>\n",
       "      <td>bar employees color bin desc</td>\n",
       "      <td>mark data encoding x start_from y aggregate me...</td>\n",
       "      <td>mark data encoding x start_from y aggregate me...</td>\n",
       "      <td>15</td>\n",
       "      <td>20</td>\n",
       "      <td>...</td>\n",
       "      <td>[transform]</td>\n",
       "      <td>1</td>\n",
       "      <td>[sort]</td>\n",
       "      <td>1</td>\n",
       "      <td>11</td>\n",
       "      <td>9</td>\n",
       "      <td>3</td>\n",
       "      <td>9</td>\n",
       "      <td>5</td>\n",
       "      <td>6</td>\n",
       "    </tr>\n",
       "  </tbody>\n",
       "</table>\n",
       "<p>5 rows × 22 columns</p>\n",
       "</div>"
      ],
      "text/plain": [
       "     Unnamed: 0                                             source  \\\n",
       "94           94  ('<N> Give me the trend about the average of E...   \n",
       "95           95  ('<N> Give me the trend about the average of E...   \n",
       "130         130  ('<N> A line chart shows the change of the ave...   \n",
       "131         131  ('<N> A line chart shows the change of the ave...   \n",
       "428         428  ('<N> Show me about the change of the average ...   \n",
       "\n",
       "                                                target  \\\n",
       "94   mark line data hiring encoding x start_from y ...   \n",
       "95   mark line data hiring encoding x start_from y ...   \n",
       "130  mark line data hiring encoding x start_from y ...   \n",
       "131  mark line data hiring encoding x start_from y ...   \n",
       "428  mark line data hiring encoding x start_from y ...   \n",
       "\n",
       "                                             predicted  \\\n",
       "94   mark bar data employees encoding x start_from ...   \n",
       "95   mark bar data employees encoding x start_from ...   \n",
       "130  mark bar data employees encoding x start_from ...   \n",
       "131  mark bar data employees encoding x start_from ...   \n",
       "428  mark bar data employees encoding x start_from ...   \n",
       "\n",
       "                   incorrect target          incorrect prediction  \\\n",
       "94   line hiring transform sort asc  bar employees color bin desc   \n",
       "95   line hiring transform sort asc  bar employees color bin desc   \n",
       "130  line hiring transform sort asc  bar employees color bin desc   \n",
       "131  line hiring transform sort asc  bar employees color bin desc   \n",
       "428  line hiring transform sort asc  bar employees color bin desc   \n",
       "\n",
       "                                        correct target  \\\n",
       "94   mark data encoding x start_from y aggregate me...   \n",
       "95   mark data encoding x start_from y aggregate me...   \n",
       "130  mark data encoding x start_from y aggregate me...   \n",
       "131  mark data encoding x start_from y aggregate me...   \n",
       "428  mark data encoding x start_from y aggregate me...   \n",
       "\n",
       "                                    correct prediction  correct count  \\\n",
       "94   mark data encoding x start_from y aggregate me...             15   \n",
       "95   mark data encoding x start_from y aggregate me...             15   \n",
       "130  mark data encoding x start_from y aggregate me...             15   \n",
       "131  mark data encoding x start_from y aggregate me...             15   \n",
       "428  mark data encoding x start_from y aggregate me...             15   \n",
       "\n",
       "     total count  ... incorrect easy  incorrect easy count incorrect hard  \\\n",
       "94            20  ...    [transform]                     1         [sort]   \n",
       "95            20  ...    [transform]                     1         [sort]   \n",
       "130           20  ...    [transform]                     1         [sort]   \n",
       "131           20  ...    [transform]                     1         [sort]   \n",
       "428           20  ...    [transform]                     1         [sort]   \n",
       "\n",
       "     incorrect hard count template count  correct template count  \\\n",
       "94                      1             11                       9   \n",
       "95                      1             11                       9   \n",
       "130                     1             11                       9   \n",
       "131                     1             11                       9   \n",
       "428                     1             11                       9   \n",
       "\n",
       "     incorrect non-template count  non-template count  template easy count  \\\n",
       "94                              3                   9                    5   \n",
       "95                              3                   9                    5   \n",
       "130                             3                   9                    5   \n",
       "131                             3                   9                    5   \n",
       "428                             3                   9                    5   \n",
       "\n",
       "     template hard count  \n",
       "94                     6  \n",
       "95                     6  \n",
       "130                    6  \n",
       "131                    6  \n",
       "428                    6  \n",
       "\n",
       "[5 rows x 22 columns]"
      ]
     },
     "execution_count": 166,
     "metadata": {},
     "output_type": "execute_result"
    }
   ],
   "source": [
    "res[res[\"incorrect easy count\"] > 0].head()"
   ]
  },
  {
   "cell_type": "code",
   "execution_count": 201,
   "id": "dd14fe54-6d5b-4442-be2d-7f2ac3b5c34e",
   "metadata": {},
   "outputs": [],
   "source": [
    "res[\"correct template count\"] = res[\"template count\"] - res[\"incorrect easy count\"] - res[\"incorrect hard count\"]\n",
    "res[\"incorrect template count\"] = res[\"incorrect easy count\"] + res[\"incorrect hard count\"]\n",
    "res[\"incorrect non-template count\"] = res[\"total count\"] - res[\"correct count\"] - res[\"incorrect easy count\"] - res[\"incorrect hard count\"]\n",
    "res[\"non-template count\"] = res[\"total count\"] - res[\"template count\"]\n",
    "\n",
    "chart_set = set()\n",
    "for trg in res[\"target\"]:\n",
    "    chart_set.add(trg.split(\" \")[1])\n",
    "    \n",
    "has_chart = []\n",
    "for src in res[\"source\"]:\n",
    "    if \"[T]\" in src:\n",
    "        has_chart.append(False)\n",
    "    else:\n",
    "        has_chart.append(True)\n",
    "\n",
    "res[\"has_chart\"] = has_chart\n",
    "\n",
    "res[\"chart\"] = res[\"target\"].apply(lambda x: x.split(\" \")[1])\n",
    "\n",
    "correct_chart = []\n",
    "for trg in res[\"incorrect target\"]:\n",
    "    trg_set = set(trg.split(\" \"))\n",
    "    \n",
    "    if len(chart_set.intersection(trg_set)) > 0:\n",
    "        correct_chart.append(False)\n",
    "    else:\n",
    "        correct_chart.append(True)\n",
    "        \n",
    "res[\"correct_chart\"] = correct_chart"
   ]
  },
  {
   "cell_type": "code",
   "execution_count": 202,
   "id": "42205a53-4bd9-4529-9546-4e73d1ef1752",
   "metadata": {},
   "outputs": [],
   "source": [
    "res.to_csv(\"C:/Users/aphri/Documents/t0002/pycharm/data/ncnet/nv_bert_eval_res_df2_updated.csv\")"
   ]
  },
  {
   "cell_type": "code",
   "execution_count": 216,
   "id": "8f416e38-9483-44be-a642-a4540f6e0932",
   "metadata": {},
   "outputs": [
    {
     "data": {
      "text/plain": [
       "{'arc', 'bar', 'line', 'point'}"
      ]
     },
     "execution_count": 216,
     "metadata": {},
     "output_type": "execute_result"
    }
   ],
   "source": [
    "chart_set"
   ]
  },
  {
   "cell_type": "code",
   "execution_count": 135,
   "id": "31e02394-e467-4da2-98e0-799de3be6dc4",
   "metadata": {},
   "outputs": [
    {
     "data": {
      "text/html": [
       "<div>\n",
       "<style scoped>\n",
       "    .dataframe tbody tr th:only-of-type {\n",
       "        vertical-align: middle;\n",
       "    }\n",
       "\n",
       "    .dataframe tbody tr th {\n",
       "        vertical-align: top;\n",
       "    }\n",
       "\n",
       "    .dataframe thead th {\n",
       "        text-align: right;\n",
       "    }\n",
       "</style>\n",
       "<table border=\"1\" class=\"dataframe\">\n",
       "  <thead>\n",
       "    <tr style=\"text-align: right;\">\n",
       "      <th></th>\n",
       "      <th>template count</th>\n",
       "      <th>non-template count</th>\n",
       "      <th>total count</th>\n",
       "    </tr>\n",
       "  </thead>\n",
       "  <tbody>\n",
       "    <tr>\n",
       "      <th>count</th>\n",
       "      <td>4920.000000</td>\n",
       "      <td>4920.000000</td>\n",
       "      <td>4920.000000</td>\n",
       "    </tr>\n",
       "    <tr>\n",
       "      <th>mean</th>\n",
       "      <td>10.451626</td>\n",
       "      <td>8.526423</td>\n",
       "      <td>18.978049</td>\n",
       "    </tr>\n",
       "    <tr>\n",
       "      <th>std</th>\n",
       "      <td>1.311008</td>\n",
       "      <td>3.454892</td>\n",
       "      <td>4.190853</td>\n",
       "    </tr>\n",
       "    <tr>\n",
       "      <th>min</th>\n",
       "      <td>6.000000</td>\n",
       "      <td>4.000000</td>\n",
       "      <td>12.000000</td>\n",
       "    </tr>\n",
       "    <tr>\n",
       "      <th>25%</th>\n",
       "      <td>10.000000</td>\n",
       "      <td>6.000000</td>\n",
       "      <td>16.000000</td>\n",
       "    </tr>\n",
       "    <tr>\n",
       "      <th>50%</th>\n",
       "      <td>11.000000</td>\n",
       "      <td>7.000000</td>\n",
       "      <td>18.000000</td>\n",
       "    </tr>\n",
       "    <tr>\n",
       "      <th>75%</th>\n",
       "      <td>11.000000</td>\n",
       "      <td>10.000000</td>\n",
       "      <td>20.000000</td>\n",
       "    </tr>\n",
       "    <tr>\n",
       "      <th>max</th>\n",
       "      <td>13.000000</td>\n",
       "      <td>22.000000</td>\n",
       "      <td>34.000000</td>\n",
       "    </tr>\n",
       "  </tbody>\n",
       "</table>\n",
       "</div>"
      ],
      "text/plain": [
       "       template count  non-template count  total count\n",
       "count     4920.000000         4920.000000  4920.000000\n",
       "mean        10.451626            8.526423    18.978049\n",
       "std          1.311008            3.454892     4.190853\n",
       "min          6.000000            4.000000    12.000000\n",
       "25%         10.000000            6.000000    16.000000\n",
       "50%         11.000000            7.000000    18.000000\n",
       "75%         11.000000           10.000000    20.000000\n",
       "max         13.000000           22.000000    34.000000"
      ]
     },
     "execution_count": 135,
     "metadata": {},
     "output_type": "execute_result"
    }
   ],
   "source": [
    "res[[\"template count\", \"non-template count\", \"total count\"]].describe()"
   ]
  },
  {
   "cell_type": "code",
   "execution_count": 123,
   "id": "d9f7d41c-05a5-466f-80db-ddecc7918770",
   "metadata": {},
   "outputs": [
    {
     "data": {
      "text/html": [
       "<div>\n",
       "<style scoped>\n",
       "    .dataframe tbody tr th:only-of-type {\n",
       "        vertical-align: middle;\n",
       "    }\n",
       "\n",
       "    .dataframe tbody tr th {\n",
       "        vertical-align: top;\n",
       "    }\n",
       "\n",
       "    .dataframe thead th {\n",
       "        text-align: right;\n",
       "    }\n",
       "</style>\n",
       "<table border=\"1\" class=\"dataframe\">\n",
       "  <thead>\n",
       "    <tr style=\"text-align: right;\">\n",
       "      <th></th>\n",
       "      <th>incorrect easy count</th>\n",
       "      <th>incorrect hard count</th>\n",
       "      <th>incorrect template count</th>\n",
       "      <th>incorrect non-template count</th>\n",
       "    </tr>\n",
       "  </thead>\n",
       "  <tbody>\n",
       "    <tr>\n",
       "      <th>count</th>\n",
       "      <td>4920.000000</td>\n",
       "      <td>4920.000000</td>\n",
       "      <td>4920.000000</td>\n",
       "      <td>4920.000000</td>\n",
       "    </tr>\n",
       "    <tr>\n",
       "      <th>mean</th>\n",
       "      <td>0.010976</td>\n",
       "      <td>0.603252</td>\n",
       "      <td>0.614228</td>\n",
       "      <td>3.403252</td>\n",
       "    </tr>\n",
       "    <tr>\n",
       "      <th>std</th>\n",
       "      <td>0.104199</td>\n",
       "      <td>0.679253</td>\n",
       "      <td>0.688210</td>\n",
       "      <td>1.482290</td>\n",
       "    </tr>\n",
       "    <tr>\n",
       "      <th>min</th>\n",
       "      <td>0.000000</td>\n",
       "      <td>0.000000</td>\n",
       "      <td>0.000000</td>\n",
       "      <td>1.000000</td>\n",
       "    </tr>\n",
       "    <tr>\n",
       "      <th>25%</th>\n",
       "      <td>0.000000</td>\n",
       "      <td>0.000000</td>\n",
       "      <td>0.000000</td>\n",
       "      <td>2.000000</td>\n",
       "    </tr>\n",
       "    <tr>\n",
       "      <th>50%</th>\n",
       "      <td>0.000000</td>\n",
       "      <td>1.000000</td>\n",
       "      <td>1.000000</td>\n",
       "      <td>3.000000</td>\n",
       "    </tr>\n",
       "    <tr>\n",
       "      <th>75%</th>\n",
       "      <td>0.000000</td>\n",
       "      <td>1.000000</td>\n",
       "      <td>1.000000</td>\n",
       "      <td>4.000000</td>\n",
       "    </tr>\n",
       "    <tr>\n",
       "      <th>max</th>\n",
       "      <td>1.000000</td>\n",
       "      <td>4.000000</td>\n",
       "      <td>4.000000</td>\n",
       "      <td>12.000000</td>\n",
       "    </tr>\n",
       "  </tbody>\n",
       "</table>\n",
       "</div>"
      ],
      "text/plain": [
       "       incorrect easy count  incorrect hard count  incorrect template count  \\\n",
       "count           4920.000000           4920.000000               4920.000000   \n",
       "mean               0.010976              0.603252                  0.614228   \n",
       "std                0.104199              0.679253                  0.688210   \n",
       "min                0.000000              0.000000                  0.000000   \n",
       "25%                0.000000              0.000000                  0.000000   \n",
       "50%                0.000000              1.000000                  1.000000   \n",
       "75%                0.000000              1.000000                  1.000000   \n",
       "max                1.000000              4.000000                  4.000000   \n",
       "\n",
       "       incorrect non-template count  \n",
       "count                   4920.000000  \n",
       "mean                       3.403252  \n",
       "std                        1.482290  \n",
       "min                        1.000000  \n",
       "25%                        2.000000  \n",
       "50%                        3.000000  \n",
       "75%                        4.000000  \n",
       "max                       12.000000  "
      ]
     },
     "execution_count": 123,
     "metadata": {},
     "output_type": "execute_result"
    }
   ],
   "source": [
    "res[[\"incorrect easy count\", \"incorrect hard count\", \"incorrect template count\", \"incorrect non-template count\"]].describe()"
   ]
  },
  {
   "cell_type": "code",
   "execution_count": 134,
   "id": "46e3b437-c9aa-48ce-9eaf-b1ebab6c9e0c",
   "metadata": {},
   "outputs": [
    {
     "data": {
      "text/plain": [
       "Index(['Unnamed: 0', 'source', 'target', 'predicted', 'incorrect target',\n",
       "       'incorrect prediction', 'correct target', 'correct prediction',\n",
       "       'correct count', 'total count', 'incorrect template',\n",
       "       'incorrect template count', 'incorrect easy', 'incorrect easy count',\n",
       "       'incorrect hard', 'incorrect hard count', 'template count',\n",
       "       'correct template count', 'incorrect non-template count',\n",
       "       'non-template count'],\n",
       "      dtype='object')"
      ]
     },
     "execution_count": 134,
     "metadata": {},
     "output_type": "execute_result"
    }
   ],
   "source": [
    "res.keys()"
   ]
  },
  {
   "cell_type": "code",
   "execution_count": 143,
   "id": "9a6240ec-7fcc-4b35-a279-d1dd99701784",
   "metadata": {},
   "outputs": [],
   "source": [
    "gold = 'mark bar data tourist_attractions encoding x how_to_get_there y aggregate count how_to_get_there transform group x sort x asc <eos>'"
   ]
  },
  {
   "cell_type": "code",
   "execution_count": 147,
   "id": "908b4bb3-509c-4066-9d31-ee74eaa5a665",
   "metadata": {},
   "outputs": [],
   "source": [
    "r1 = res[res[\"target\"] == gold].iloc[0]"
   ]
  },
  {
   "cell_type": "code",
   "execution_count": 149,
   "id": "4ca338f4-ad97-432c-96fb-01aff9cf7b15",
   "metadata": {
    "tags": []
   },
   "outputs": [
    {
     "data": {
      "text/plain": [
       "\"('<N> List all the possible ways to get to attractions , together with the number of attractions accessible by these methods in a bar chart , and sort names in asc order please . </N> <C> mark [T] data tourist_attractions encoding x [X] y aggregate [AggFunction] [Y] color [Z] transform filter [F] group [G] bin [B] sort [S] topk [K] </C> <D> tourist_attractions <COL> name how_to_get_there </COL> <VAL> walk bus </VAL> </D>',)\""
      ]
     },
     "execution_count": 149,
     "metadata": {},
     "output_type": "execute_result"
    }
   ],
   "source": [
    "r1[\"source\"]"
   ]
  },
  {
   "cell_type": "code",
   "execution_count": 150,
   "id": "caa926e0-562a-419d-9e61-32f8bdaae71d",
   "metadata": {},
   "outputs": [
    {
     "data": {
      "text/plain": [
       "'mark bar data tourist_attractions encoding x how_to_get_there y aggregate count how_to_get_there transform group x sort x asc <eos>'"
      ]
     },
     "execution_count": 150,
     "metadata": {},
     "output_type": "execute_result"
    }
   ],
   "source": [
    "r1[\"target\"]"
   ]
  },
  {
   "cell_type": "code",
   "execution_count": 153,
   "id": "c2b7b634-07e2-48f9-850c-77c12e58b1d4",
   "metadata": {},
   "outputs": [
    {
     "data": {
      "text/plain": [
       "'mark bar data employees encoding x how_to_get_there y aggregate count how_to_get_there transform group x sort x asc <eos>'"
      ]
     },
     "execution_count": 153,
     "metadata": {},
     "output_type": "execute_result"
    }
   ],
   "source": [
    "r1[\"predicted\"]"
   ]
  },
  {
   "cell_type": "code",
   "execution_count": 164,
   "id": "b44b4169-e339-4987-ab07-bd4213506880",
   "metadata": {},
   "outputs": [
    {
     "data": {
      "text/plain": [
       "0.9977856146969573"
      ]
     },
     "execution_count": 164,
     "metadata": {},
     "output_type": "execute_result"
    }
   ],
   "source": [
    "easy_accuracy = (res[\"template easy count\"] - res[\"incorrect easy count\"]).sum() / res[\"template easy count\"].sum()\n",
    "easy_accuracy"
   ]
  },
  {
   "cell_type": "code",
   "execution_count": 165,
   "id": "98f9a0bf-58c8-4117-b59b-6279f0e99ce2",
   "metadata": {},
   "outputs": [
    {
     "data": {
      "text/plain": [
       "0.8902204468116586"
      ]
     },
     "execution_count": 165,
     "metadata": {},
     "output_type": "execute_result"
    }
   ],
   "source": [
    "hard_accuracy = (res[\"template hard count\"] - res[\"incorrect hard count\"]).sum() / res[\"template hard count\"].sum()\n",
    "hard_accuracy"
   ]
  },
  {
   "cell_type": "code",
   "execution_count": 167,
   "id": "20b94131-4e28-4a0e-b554-e0b8ef7b1e64",
   "metadata": {},
   "outputs": [
    {
     "data": {
      "text/plain": [
       "0.9412313795651667"
      ]
     },
     "execution_count": 167,
     "metadata": {},
     "output_type": "execute_result"
    }
   ],
   "source": [
    "template_accuracy = res[\"correct template count\"].sum() / res[\"template count\"].sum()\n",
    "template_accuracy"
   ]
  },
  {
   "cell_type": "code",
   "execution_count": 170,
   "id": "db1c622a-1306-4274-acf3-fca27a2462c0",
   "metadata": {},
   "outputs": [
    {
     "data": {
      "text/plain": [
       "0.6008581644815256"
      ]
     },
     "execution_count": 170,
     "metadata": {},
     "output_type": "execute_result"
    }
   ],
   "source": [
    "non_template_accuracy = (res[\"non-template count\"] - res[\"incorrect non-template count\"]).sum() / res[\"non-template count\"].sum()\n",
    "non_template_accuracy"
   ]
  },
  {
   "cell_type": "code",
   "execution_count": 172,
   "id": "e8ccdec9-d83b-4657-a27a-f08bd28d9ca8",
   "metadata": {},
   "outputs": [
    {
     "data": {
      "text/plain": [
       "0.7883091290750974"
      ]
     },
     "execution_count": 172,
     "metadata": {},
     "output_type": "execute_result"
    }
   ],
   "source": [
    "total_accuracy = res[\"correct count\"].sum() / res[\"total count\"].sum()\n",
    "total_accuracy"
   ]
  },
  {
   "cell_type": "code",
   "execution_count": 179,
   "id": "423c698a-3eaf-4546-86ba-f0ff377b3b1b",
   "metadata": {},
   "outputs": [
    {
     "data": {
      "text/plain": [
       "{'arc', 'bar', 'line', 'point'}"
      ]
     },
     "execution_count": 179,
     "metadata": {},
     "output_type": "execute_result"
    }
   ],
   "source": [
    "chart_set"
   ]
  },
  {
   "cell_type": "code",
   "execution_count": 188,
   "id": "77b5cb19-9304-4415-9555-3a64ca2bd8af",
   "metadata": {},
   "outputs": [
    {
     "data": {
      "text/plain": [
       "2460"
      ]
     },
     "execution_count": 188,
     "metadata": {},
     "output_type": "execute_result"
    }
   ],
   "source": [
    "len(res[res[\"has_chart\"]])"
   ]
  },
  {
   "cell_type": "code",
   "execution_count": 189,
   "id": "9e7d6616-d557-43cd-86db-b94d777a92d0",
   "metadata": {},
   "outputs": [
    {
     "data": {
      "text/plain": [
       "2460"
      ]
     },
     "execution_count": 189,
     "metadata": {},
     "output_type": "execute_result"
    }
   ],
   "source": [
    "len(res[~res[\"has_chart\"]])"
   ]
  },
  {
   "cell_type": "code",
   "execution_count": 192,
   "id": "28cf9bc8-8752-4e0f-a60c-c1cfa0afbb7c",
   "metadata": {},
   "outputs": [
    {
     "data": {
      "text/html": [
       "<div>\n",
       "<style scoped>\n",
       "    .dataframe tbody tr th:only-of-type {\n",
       "        vertical-align: middle;\n",
       "    }\n",
       "\n",
       "    .dataframe tbody tr th {\n",
       "        vertical-align: top;\n",
       "    }\n",
       "\n",
       "    .dataframe thead th {\n",
       "        text-align: right;\n",
       "    }\n",
       "</style>\n",
       "<table border=\"1\" class=\"dataframe\">\n",
       "  <thead>\n",
       "    <tr style=\"text-align: right;\">\n",
       "      <th></th>\n",
       "      <th>incorrect easy count</th>\n",
       "      <th>incorrect hard count</th>\n",
       "      <th>incorrect template count</th>\n",
       "      <th>incorrect non-template count</th>\n",
       "    </tr>\n",
       "  </thead>\n",
       "  <tbody>\n",
       "    <tr>\n",
       "      <th>count</th>\n",
       "      <td>2460.000000</td>\n",
       "      <td>2460.000000</td>\n",
       "      <td>2460.000000</td>\n",
       "      <td>2460.000000</td>\n",
       "    </tr>\n",
       "    <tr>\n",
       "      <th>mean</th>\n",
       "      <td>0.010976</td>\n",
       "      <td>0.603252</td>\n",
       "      <td>0.614228</td>\n",
       "      <td>3.403252</td>\n",
       "    </tr>\n",
       "    <tr>\n",
       "      <th>std</th>\n",
       "      <td>0.104209</td>\n",
       "      <td>0.679322</td>\n",
       "      <td>0.688280</td>\n",
       "      <td>1.482441</td>\n",
       "    </tr>\n",
       "    <tr>\n",
       "      <th>min</th>\n",
       "      <td>0.000000</td>\n",
       "      <td>0.000000</td>\n",
       "      <td>0.000000</td>\n",
       "      <td>1.000000</td>\n",
       "    </tr>\n",
       "    <tr>\n",
       "      <th>25%</th>\n",
       "      <td>0.000000</td>\n",
       "      <td>0.000000</td>\n",
       "      <td>0.000000</td>\n",
       "      <td>2.000000</td>\n",
       "    </tr>\n",
       "    <tr>\n",
       "      <th>50%</th>\n",
       "      <td>0.000000</td>\n",
       "      <td>1.000000</td>\n",
       "      <td>1.000000</td>\n",
       "      <td>3.000000</td>\n",
       "    </tr>\n",
       "    <tr>\n",
       "      <th>75%</th>\n",
       "      <td>0.000000</td>\n",
       "      <td>1.000000</td>\n",
       "      <td>1.000000</td>\n",
       "      <td>4.000000</td>\n",
       "    </tr>\n",
       "    <tr>\n",
       "      <th>max</th>\n",
       "      <td>1.000000</td>\n",
       "      <td>4.000000</td>\n",
       "      <td>4.000000</td>\n",
       "      <td>12.000000</td>\n",
       "    </tr>\n",
       "  </tbody>\n",
       "</table>\n",
       "</div>"
      ],
      "text/plain": [
       "       incorrect easy count  incorrect hard count  incorrect template count  \\\n",
       "count           2460.000000           2460.000000               2460.000000   \n",
       "mean               0.010976              0.603252                  0.614228   \n",
       "std                0.104209              0.679322                  0.688280   \n",
       "min                0.000000              0.000000                  0.000000   \n",
       "25%                0.000000              0.000000                  0.000000   \n",
       "50%                0.000000              1.000000                  1.000000   \n",
       "75%                0.000000              1.000000                  1.000000   \n",
       "max                1.000000              4.000000                  4.000000   \n",
       "\n",
       "       incorrect non-template count  \n",
       "count                   2460.000000  \n",
       "mean                       3.403252  \n",
       "std                        1.482441  \n",
       "min                        1.000000  \n",
       "25%                        2.000000  \n",
       "50%                        3.000000  \n",
       "75%                        4.000000  \n",
       "max                       12.000000  "
      ]
     },
     "execution_count": 192,
     "metadata": {},
     "output_type": "execute_result"
    }
   ],
   "source": [
    "res[res[\"has_chart\"]][[\"incorrect easy count\", \"incorrect hard count\", \"incorrect template count\", \"incorrect non-template count\"]].describe()"
   ]
  },
  {
   "cell_type": "code",
   "execution_count": 193,
   "id": "5cd001d8-9548-4890-b9cf-c55d9b3c9d43",
   "metadata": {},
   "outputs": [
    {
     "data": {
      "text/html": [
       "<div>\n",
       "<style scoped>\n",
       "    .dataframe tbody tr th:only-of-type {\n",
       "        vertical-align: middle;\n",
       "    }\n",
       "\n",
       "    .dataframe tbody tr th {\n",
       "        vertical-align: top;\n",
       "    }\n",
       "\n",
       "    .dataframe thead th {\n",
       "        text-align: right;\n",
       "    }\n",
       "</style>\n",
       "<table border=\"1\" class=\"dataframe\">\n",
       "  <thead>\n",
       "    <tr style=\"text-align: right;\">\n",
       "      <th></th>\n",
       "      <th>incorrect easy count</th>\n",
       "      <th>incorrect hard count</th>\n",
       "      <th>incorrect template count</th>\n",
       "      <th>incorrect non-template count</th>\n",
       "    </tr>\n",
       "  </thead>\n",
       "  <tbody>\n",
       "    <tr>\n",
       "      <th>count</th>\n",
       "      <td>2460.000000</td>\n",
       "      <td>2460.000000</td>\n",
       "      <td>2460.000000</td>\n",
       "      <td>2460.000000</td>\n",
       "    </tr>\n",
       "    <tr>\n",
       "      <th>mean</th>\n",
       "      <td>0.010976</td>\n",
       "      <td>0.603252</td>\n",
       "      <td>0.614228</td>\n",
       "      <td>3.403252</td>\n",
       "    </tr>\n",
       "    <tr>\n",
       "      <th>std</th>\n",
       "      <td>0.104209</td>\n",
       "      <td>0.679322</td>\n",
       "      <td>0.688280</td>\n",
       "      <td>1.482441</td>\n",
       "    </tr>\n",
       "    <tr>\n",
       "      <th>min</th>\n",
       "      <td>0.000000</td>\n",
       "      <td>0.000000</td>\n",
       "      <td>0.000000</td>\n",
       "      <td>1.000000</td>\n",
       "    </tr>\n",
       "    <tr>\n",
       "      <th>25%</th>\n",
       "      <td>0.000000</td>\n",
       "      <td>0.000000</td>\n",
       "      <td>0.000000</td>\n",
       "      <td>2.000000</td>\n",
       "    </tr>\n",
       "    <tr>\n",
       "      <th>50%</th>\n",
       "      <td>0.000000</td>\n",
       "      <td>1.000000</td>\n",
       "      <td>1.000000</td>\n",
       "      <td>3.000000</td>\n",
       "    </tr>\n",
       "    <tr>\n",
       "      <th>75%</th>\n",
       "      <td>0.000000</td>\n",
       "      <td>1.000000</td>\n",
       "      <td>1.000000</td>\n",
       "      <td>4.000000</td>\n",
       "    </tr>\n",
       "    <tr>\n",
       "      <th>max</th>\n",
       "      <td>1.000000</td>\n",
       "      <td>4.000000</td>\n",
       "      <td>4.000000</td>\n",
       "      <td>12.000000</td>\n",
       "    </tr>\n",
       "  </tbody>\n",
       "</table>\n",
       "</div>"
      ],
      "text/plain": [
       "       incorrect easy count  incorrect hard count  incorrect template count  \\\n",
       "count           2460.000000           2460.000000               2460.000000   \n",
       "mean               0.010976              0.603252                  0.614228   \n",
       "std                0.104209              0.679322                  0.688280   \n",
       "min                0.000000              0.000000                  0.000000   \n",
       "25%                0.000000              0.000000                  0.000000   \n",
       "50%                0.000000              1.000000                  1.000000   \n",
       "75%                0.000000              1.000000                  1.000000   \n",
       "max                1.000000              4.000000                  4.000000   \n",
       "\n",
       "       incorrect non-template count  \n",
       "count                   2460.000000  \n",
       "mean                       3.403252  \n",
       "std                        1.482441  \n",
       "min                        1.000000  \n",
       "25%                        2.000000  \n",
       "50%                        3.000000  \n",
       "75%                        4.000000  \n",
       "max                       12.000000  "
      ]
     },
     "execution_count": 193,
     "metadata": {},
     "output_type": "execute_result"
    }
   ],
   "source": [
    "res[~res[\"has_chart\"]][[\"incorrect easy count\", \"incorrect hard count\", \"incorrect template count\", \"incorrect non-template count\"]].describe()"
   ]
  },
  {
   "cell_type": "code",
   "execution_count": 207,
   "id": "639ea78e-0065-49af-9781-0ecf334363d9",
   "metadata": {},
   "outputs": [
    {
     "data": {
      "text/plain": [
       "0.19349593495934958"
      ]
     },
     "execution_count": 207,
     "metadata": {},
     "output_type": "execute_result"
    }
   ],
   "source": [
    "len(res[res[\"has_chart\"] & ~res[\"correct_chart\"]])/ len(res[res[\"has_chart\"]])"
   ]
  },
  {
   "cell_type": "code",
   "execution_count": 213,
   "id": "ceb75ad1-f608-42b8-9ffd-b6816c7b6a65",
   "metadata": {},
   "outputs": [
    {
     "data": {
      "text/plain": [
       "476"
      ]
     },
     "execution_count": 213,
     "metadata": {},
     "output_type": "execute_result"
    }
   ],
   "source": [
    "len(res[res[\"has_chart\"] & ~res[\"correct_chart\"]])"
   ]
  },
  {
   "cell_type": "code",
   "execution_count": 214,
   "id": "8d982d46-5010-4403-b5c6-be962f0a9dab",
   "metadata": {},
   "outputs": [
    {
     "data": {
      "text/plain": [
       "2460"
      ]
     },
     "execution_count": 214,
     "metadata": {},
     "output_type": "execute_result"
    }
   ],
   "source": [
    "len(res[res[\"has_chart\"]])"
   ]
  },
  {
   "cell_type": "code",
   "execution_count": 209,
   "id": "bdfdcb1c-e346-4cac-9c17-b3b14e10c071",
   "metadata": {},
   "outputs": [
    {
     "data": {
      "text/plain": [
       "0.19349593495934958"
      ]
     },
     "execution_count": 209,
     "metadata": {},
     "output_type": "execute_result"
    }
   ],
   "source": [
    "len(res[~res[\"has_chart\"] & ~res[\"correct_chart\"]])/ len(res[~res[\"has_chart\"]])"
   ]
  },
  {
   "cell_type": "code",
   "execution_count": 210,
   "id": "41ad5267-c03a-4a28-ba7b-bd79659bfccb",
   "metadata": {},
   "outputs": [
    {
     "data": {
      "text/plain": [
       "476"
      ]
     },
     "execution_count": 210,
     "metadata": {},
     "output_type": "execute_result"
    }
   ],
   "source": [
    "len(res[~res[\"has_chart\"] & ~res[\"correct_chart\"]])"
   ]
  },
  {
   "cell_type": "code",
   "execution_count": 212,
   "id": "aea68594-9c86-43fa-b982-e282a0a8b5bf",
   "metadata": {},
   "outputs": [
    {
     "data": {
      "text/plain": [
       "2460"
      ]
     },
     "execution_count": 212,
     "metadata": {},
     "output_type": "execute_result"
    }
   ],
   "source": [
    "len(res[~res[\"has_chart\"]])"
   ]
  },
  {
   "cell_type": "code",
   "execution_count": null,
   "id": "eb09a09e-7be3-4059-8f55-47b7e4a56ea8",
   "metadata": {},
   "outputs": [],
   "source": []
  }
 ],
 "metadata": {
  "kernelspec": {
   "display_name": "Python 3 (ipykernel)",
   "language": "python",
   "name": "python3"
  },
  "language_info": {
   "codemirror_mode": {
    "name": "ipython",
    "version": 3
   },
   "file_extension": ".py",
   "mimetype": "text/x-python",
   "name": "python",
   "nbconvert_exporter": "python",
   "pygments_lexer": "ipython3",
   "version": "3.9.1"
  }
 },
 "nbformat": 4,
 "nbformat_minor": 5
}
