{
 "cells": [
  {
   "cell_type": "code",
   "execution_count": 34,
   "id": "8b5b598e-ccdd-4b5a-ac1f-6fa9828c8bba",
   "metadata": {},
   "outputs": [],
   "source": [
    "from nebula.data.nvbench.build_vocab import read_data\n",
    "from nebula import root\n",
    "import os.path as osp"
   ]
  },
  {
   "cell_type": "code",
   "execution_count": 35,
   "id": "62a1d556-145d-4352-8cd4-78a56eaa6c99",
   "metadata": {},
   "outputs": [],
   "source": [
    "data_dir=osp.join(root(), \"data\", \"nvbench\", \"dataset\", \"dataset_final\")\n",
    "db_info=osp.join(root(), \"data\", \"nvbench\", \"dataset\", \"database_information.csv\")"
   ]
  },
  {
   "cell_type": "code",
   "execution_count": 36,
   "id": "781b434f-0327-44de-b368-03188058abd9",
   "metadata": {},
   "outputs": [],
   "source": [
    "test_df, validation_df, train_df, info_df = read_data(data_dir, db_info)"
   ]
  },
  {
   "cell_type": "code",
   "execution_count": 37,
   "id": "6cdd6661-5013-44e6-888b-ba1775da3630",
   "metadata": {},
   "outputs": [
    {
     "data": {
      "text/html": [
       "<div>\n",
       "<style scoped>\n",
       "    .dataframe tbody tr th:only-of-type {\n",
       "        vertical-align: middle;\n",
       "    }\n",
       "\n",
       "    .dataframe tbody tr th {\n",
       "        vertical-align: top;\n",
       "    }\n",
       "\n",
       "    .dataframe thead th {\n",
       "        text-align: right;\n",
       "    }\n",
       "</style>\n",
       "<table border=\"1\" class=\"dataframe\">\n",
       "  <thead>\n",
       "    <tr style=\"text-align: right;\">\n",
       "      <th></th>\n",
       "      <th>source</th>\n",
       "      <th>labels</th>\n",
       "      <th>token_types</th>\n",
       "    </tr>\n",
       "  </thead>\n",
       "  <tbody>\n",
       "    <tr>\n",
       "      <th>508</th>\n",
       "      <td>&lt;N&gt; Scatter plot to show max(accelerate) on x ...</td>\n",
       "      <td>mark point data cars_data encoding x max(accel...</td>\n",
       "      <td>nl nl nl nl nl nl nl nl nl nl nl nl nl nl nl n...</td>\n",
       "    </tr>\n",
       "    <tr>\n",
       "      <th>509</th>\n",
       "      <td>&lt;N&gt; Scatter plot to show max(accelerate) on x ...</td>\n",
       "      <td>mark point data cars_data encoding x max(accel...</td>\n",
       "      <td>nl nl nl nl nl nl nl nl nl nl nl nl nl nl nl n...</td>\n",
       "    </tr>\n",
       "    <tr>\n",
       "      <th>802</th>\n",
       "      <td>&lt;N&gt; Create a bar chart showing the number of y...</td>\n",
       "      <td>mark bar data cars_data encoding x year y aggr...</td>\n",
       "      <td>nl nl nl nl nl nl nl nl nl nl nl nl nl nl nl n...</td>\n",
       "    </tr>\n",
       "    <tr>\n",
       "      <th>803</th>\n",
       "      <td>&lt;N&gt; Create a bar chart showing the number of y...</td>\n",
       "      <td>mark bar data cars_data encoding x year y aggr...</td>\n",
       "      <td>nl nl nl nl nl nl nl nl nl nl nl nl nl nl nl n...</td>\n",
       "    </tr>\n",
       "    <tr>\n",
       "      <th>1676</th>\n",
       "      <td>&lt;N&gt; Show me a line chart for what is the avera...</td>\n",
       "      <td>mark line data cars_data encoding x year y agg...</td>\n",
       "      <td>nl nl nl nl nl nl nl nl nl nl nl nl nl nl nl n...</td>\n",
       "    </tr>\n",
       "    <tr>\n",
       "      <th>...</th>\n",
       "      <td>...</td>\n",
       "      <td>...</td>\n",
       "      <td>...</td>\n",
       "    </tr>\n",
       "    <tr>\n",
       "      <th>22391</th>\n",
       "      <td>&lt;N&gt; Draw a scatter chart for what is the maxim...</td>\n",
       "      <td>mark point data cars_data encoding x max(accel...</td>\n",
       "      <td>nl nl nl nl nl nl nl nl nl nl nl nl nl nl nl n...</td>\n",
       "    </tr>\n",
       "    <tr>\n",
       "      <th>23666</th>\n",
       "      <td>&lt;N&gt; How many cars each weekday (by bin the yea...</td>\n",
       "      <td>mark bar data cars_data encoding x year y aggr...</td>\n",
       "      <td>nl nl nl nl nl nl nl nl nl nl nl nl nl nl nl n...</td>\n",
       "    </tr>\n",
       "    <tr>\n",
       "      <th>23667</th>\n",
       "      <td>&lt;N&gt; How many cars each weekday (by bin the yea...</td>\n",
       "      <td>mark bar data cars_data encoding x year y aggr...</td>\n",
       "      <td>nl nl nl nl nl nl nl nl nl nl nl nl nl nl nl n...</td>\n",
       "    </tr>\n",
       "    <tr>\n",
       "      <th>24090</th>\n",
       "      <td>&lt;N&gt; A bar chart for what are the number of the...</td>\n",
       "      <td>mark bar data cars_data encoding x year y aggr...</td>\n",
       "      <td>nl nl nl nl nl nl nl nl nl nl nl nl nl nl nl n...</td>\n",
       "    </tr>\n",
       "    <tr>\n",
       "      <th>24091</th>\n",
       "      <td>&lt;N&gt; A bar chart for what are the number of the...</td>\n",
       "      <td>mark bar data cars_data encoding x year y aggr...</td>\n",
       "      <td>nl nl nl nl nl nl nl nl nl nl nl nl nl nl nl n...</td>\n",
       "    </tr>\n",
       "  </tbody>\n",
       "</table>\n",
       "<p>92 rows × 3 columns</p>\n",
       "</div>"
      ],
      "text/plain": [
       "                                                  source  \\\n",
       "508    <N> Scatter plot to show max(accelerate) on x ...   \n",
       "509    <N> Scatter plot to show max(accelerate) on x ...   \n",
       "802    <N> Create a bar chart showing the number of y...   \n",
       "803    <N> Create a bar chart showing the number of y...   \n",
       "1676   <N> Show me a line chart for what is the avera...   \n",
       "...                                                  ...   \n",
       "22391  <N> Draw a scatter chart for what is the maxim...   \n",
       "23666  <N> How many cars each weekday (by bin the yea...   \n",
       "23667  <N> How many cars each weekday (by bin the yea...   \n",
       "24090  <N> A bar chart for what are the number of the...   \n",
       "24091  <N> A bar chart for what are the number of the...   \n",
       "\n",
       "                                                  labels  \\\n",
       "508    mark point data cars_data encoding x max(accel...   \n",
       "509    mark point data cars_data encoding x max(accel...   \n",
       "802    mark bar data cars_data encoding x year y aggr...   \n",
       "803    mark bar data cars_data encoding x year y aggr...   \n",
       "1676   mark line data cars_data encoding x year y agg...   \n",
       "...                                                  ...   \n",
       "22391  mark point data cars_data encoding x max(accel...   \n",
       "23666  mark bar data cars_data encoding x year y aggr...   \n",
       "23667  mark bar data cars_data encoding x year y aggr...   \n",
       "24090  mark bar data cars_data encoding x year y aggr...   \n",
       "24091  mark bar data cars_data encoding x year y aggr...   \n",
       "\n",
       "                                             token_types  \n",
       "508    nl nl nl nl nl nl nl nl nl nl nl nl nl nl nl n...  \n",
       "509    nl nl nl nl nl nl nl nl nl nl nl nl nl nl nl n...  \n",
       "802    nl nl nl nl nl nl nl nl nl nl nl nl nl nl nl n...  \n",
       "803    nl nl nl nl nl nl nl nl nl nl nl nl nl nl nl n...  \n",
       "1676   nl nl nl nl nl nl nl nl nl nl nl nl nl nl nl n...  \n",
       "...                                                  ...  \n",
       "22391  nl nl nl nl nl nl nl nl nl nl nl nl nl nl nl n...  \n",
       "23666  nl nl nl nl nl nl nl nl nl nl nl nl nl nl nl n...  \n",
       "23667  nl nl nl nl nl nl nl nl nl nl nl nl nl nl nl n...  \n",
       "24090  nl nl nl nl nl nl nl nl nl nl nl nl nl nl nl n...  \n",
       "24091  nl nl nl nl nl nl nl nl nl nl nl nl nl nl nl n...  \n",
       "\n",
       "[92 rows x 3 columns]"
      ]
     },
     "execution_count": 37,
     "metadata": {},
     "output_type": "execute_result"
    }
   ],
   "source": [
    "train_df[train_df.source.str.contains(\"cars_data\")]"
   ]
  },
  {
   "cell_type": "code",
   "execution_count": 39,
   "id": "cd4ef3ec-643f-45de-b368-0c0d5aa32cb0",
   "metadata": {},
   "outputs": [
    {
     "name": "stdout",
     "output_type": "stream",
     "text": [
      "<N> Plot how many booking start date by grouped by booking start date as a bar graph , order Y in ascending order . </N> <C> mark [T] data apartment_bookings encoding x [X] y aggregate [AggFunction] [Y] color [Z] transform filter [F] group [G] bin [B] sort [S] topk [K] </C> <D> apartment_bookings <COL> booking_start_date </COL> <VAL> </VAL> </D>\n",
      "mark bar data apartment_bookings encoding x booking_start_date y aggregate count booking_start_date transform sort y asc bin x by weekday\n",
      "nl nl nl nl nl nl nl nl nl nl nl nl nl nl nl nl nl nl nl nl nl nl nl nl nl template template template template template template template template template template template template template template template template template template template template template template template template template template table table col col col value value table\n"
     ]
    }
   ],
   "source": [
    "print(test_df.loc[0].source)\n",
    "print(test_df.loc[0].labels)\n",
    "print(test_df.loc[0].token_types)"
   ]
  },
  {
   "cell_type": "code",
   "execution_count": 40,
   "id": "f1f74a94-02f9-44e1-8e05-93741fffcf08",
   "metadata": {},
   "outputs": [
    {
     "name": "stdout",
     "output_type": "stream",
     "text": [
      "<N> Plot how many booking start date by grouped by booking start date as a bar graph , order Y in ascending order . </N> <C> mark bar data apartment_bookings encoding x [X] y aggregate [AggFunction] [Y] color [Z] transform filter [F] group [G] bin [B] sort [Y] asc topk [K] </C> <D> apartment_bookings <COL> booking_start_date </COL> <VAL> </VAL> </D>\n",
      "mark bar data apartment_bookings encoding x booking_start_date y aggregate count booking_start_date transform sort y asc bin x by weekday\n",
      "nl nl nl nl nl nl nl nl nl nl nl nl nl nl nl nl nl nl nl nl nl nl nl nl nl template template template template template template template template template template template template template template template template template template template template template template template template template template template table table col col col value value table\n"
     ]
    }
   ],
   "source": [
    "print(test_df.loc[1].source)\n",
    "print(test_df.loc[1].labels)\n",
    "print(test_df.loc[1].token_types)"
   ]
  },
  {
   "cell_type": "code",
   "execution_count": 20,
   "id": "d0234a88-34eb-467b-b074-4fff2dece620",
   "metadata": {},
   "outputs": [
    {
     "name": "stdout",
     "output_type": "stream",
     "text": [
      "<N> Bar chart x axis product name y axis how many product name , rank by the Y-axis in desc . </N> <C> mark [T] data products encoding x [X] y aggregate [AggFunction] [Y] color [Z] transform filter [F] group [G] bin [B] sort [S] topk [K] </C> <D> products <COL> product_name </COL> <VAL> Sony </VAL> </D>\n",
      "mark bar data products encoding x product_name y aggregate count product_name transform group x sort y desc\n"
     ]
    }
   ],
   "source": [
    "print(train_df.loc[0].source)\n",
    "print(train_df.loc[0].labels)"
   ]
  },
  {
   "cell_type": "code",
   "execution_count": 21,
   "id": "27cebd16-b935-4ed3-80ef-544c0f434cf7",
   "metadata": {},
   "outputs": [
    {
     "name": "stdout",
     "output_type": "stream",
     "text": [
      "<N> Bar chart x axis product name y axis how many product name , rank by the Y-axis in desc . </N> <C> mark bar data products encoding x [X] y aggregate [AggFunction] [Y] color [Z] transform filter [F] group [G] bin [B] sort [Y] desc topk [K] </C> <D> products <COL> product_name </COL> <VAL> Sony </VAL> </D>\n",
      "mark bar data products encoding x product_name y aggregate count product_name transform group x sort y desc\n"
     ]
    }
   ],
   "source": [
    "print(train_df.loc[1].source)\n",
    "print(train_df.loc[1].labels)"
   ]
  },
  {
   "cell_type": "code",
   "execution_count": 22,
   "id": "f9cfa92b-bdc6-42f1-889f-f0d86045f0b2",
   "metadata": {},
   "outputs": [
    {
     "name": "stdout",
     "output_type": "stream",
     "text": [
      "<N> how old is the youngest person for each job ? , and could you order x-axis from low to high order ? </N> <C> mark [T] data person encoding x [X] y aggregate [AggFunction] [Y] color [Z] transform filter [F] group [G] bin [B] sort [S] topk [K] </C> <D> person <COL> job age name </COL> <VAL> Zach Bob Dan </VAL> </D>\n",
      "mark bar data person encoding x job y aggregate min age transform group x sort x asc\n"
     ]
    }
   ],
   "source": [
    "print(train_df.loc[2].source)\n",
    "print(train_df.loc[2].labels)"
   ]
  },
  {
   "cell_type": "code",
   "execution_count": 23,
   "id": "037ea72d-9e32-41ff-ab24-c2a6a2d1dcbf",
   "metadata": {},
   "outputs": [
    {
     "name": "stdout",
     "output_type": "stream",
     "text": [
      "<N> how old is the youngest person for each job ? , and could you order x-axis from low to high order ? </N> <C> mark bar data person encoding x [X] y aggregate [AggFunction] [Y] color [Z] transform filter [F] group [G] bin [B] sort [X] asc topk [K] </C> <D> person <COL> job age name </COL> <VAL> Zach Bob Dan </VAL> </D>\n",
      "mark bar data person encoding x job y aggregate min age transform group x sort x asc\n"
     ]
    }
   ],
   "source": [
    "print(train_df.loc[3].source)\n",
    "print(train_df.loc[3].labels)"
   ]
  },
  {
   "cell_type": "code",
   "execution_count": 24,
   "id": "8c8e4622-3ddd-4a29-bd6d-318d9cc97acc",
   "metadata": {},
   "outputs": [
    {
     "name": "stdout",
     "output_type": "stream",
     "text": [
      "<N> Give me a bar chart about the average of number_of_platforms in different locations , and rank X from low to high order . </N> <C> mark [T] data station encoding x [X] y aggregate [AggFunction] [Y] color [Z] transform filter [F] group [G] bin [B] sort [S] topk [K] </C> <D> station <COL> number_of_platforms location name </COL> <VAL> </VAL> </D>\n",
      "mark bar data station encoding x location y aggregate mean number_of_platforms transform group x sort x asc\n"
     ]
    }
   ],
   "source": [
    "print(train_df.loc[400].source)\n",
    "print(train_df.loc[400].labels)"
   ]
  },
  {
   "cell_type": "code",
   "execution_count": 41,
   "id": "a7c91ced-878c-46f1-a603-3f316e46d109",
   "metadata": {},
   "outputs": [],
   "source": [
    "import json\n",
    "f = open('C:/Users/aphri/Documents/t0002/pycharm/data/nvBench-main/NVBench.json')\n",
    "data = json.load(f)"
   ]
  },
  {
   "cell_type": "code",
   "execution_count": 44,
   "id": "745f7082-e0f5-458b-9b70-5e56d74ea09d",
   "metadata": {},
   "outputs": [
    {
     "data": {
      "text/plain": [
       "7247"
      ]
     },
     "execution_count": 44,
     "metadata": {},
     "output_type": "execute_result"
    }
   ],
   "source": [
    "len(data.keys())"
   ]
  },
  {
   "cell_type": "code",
   "execution_count": 46,
   "id": "c5b1912b-9a06-49d7-afc4-88961d641294",
   "metadata": {},
   "outputs": [
    {
     "data": {
      "text/plain": [
       "['3', '4', '5', '6', '7', '8', '9', '11', '12', '14']"
      ]
     },
     "execution_count": 46,
     "metadata": {},
     "output_type": "execute_result"
    }
   ],
   "source": [
    "list(data.keys())[:10]"
   ]
  },
  {
   "cell_type": "code",
   "execution_count": 47,
   "id": "b7b96beb-cf17-47cb-b971-ab46d1760f53",
   "metadata": {},
   "outputs": [
    {
     "data": {
      "text/plain": [
       "{'vis_query': {'vis_part': 'Visualize SCATTER',\n",
       "  'data_part': {'sql_part': 'SELECT FacID , count(*) FROM Faculty AS T1 JOIN Student AS T2 ON T1.FacID = T2.advisor GROUP BY T1.FacID',\n",
       "   'binning': ''},\n",
       "  'VQL': 'Visualize SCATTER SELECT FacID , count(*) FROM Faculty AS T1 JOIN Student AS T2 ON T1.FacID = T2.advisor GROUP BY T1.FacID'},\n",
       " 'chart': 'Scatter',\n",
       " 'hardness': 'Medium',\n",
       " 'db_id': 'activity_1',\n",
       " 'vis_obj': {'chart': 'scatter',\n",
       "  'x_name': 'FacID',\n",
       "  'y_name': 'count(*)',\n",
       "  'x_data': [[1121,\n",
       "    1148,\n",
       "    2192,\n",
       "    2311,\n",
       "    5718,\n",
       "    7134,\n",
       "    7271,\n",
       "    7712,\n",
       "    7723,\n",
       "    7792,\n",
       "    8423,\n",
       "    8721,\n",
       "    8722,\n",
       "    8723,\n",
       "    8741,\n",
       "    8772,\n",
       "    8918,\n",
       "    9172]],\n",
       "  'y_data': [[3, 3, 4, 3, 2, 2, 2, 1, 1, 1, 1, 1, 3, 1, 1, 3, 1, 1]],\n",
       "  'classify': [],\n",
       "  'describe': ''},\n",
       " 'nl_queries': ['Show the faculty id of each faculty member, along with the number of students he or she advises in a scatter chart',\n",
       "  'Show the faculty id of each faculty member, along with the number of students he or she advises. Show scatter chart.',\n",
       "  'Show me a scatter chart for what are the faculty id and the number of students each faculty has?',\n",
       "  'Scatter chart. what are the faculty id and the number of students each faculty has?',\n",
       "  'What are the faculty id and the number of students each faculty has. ']}"
      ]
     },
     "execution_count": 47,
     "metadata": {},
     "output_type": "execute_result"
    }
   ],
   "source": [
    "data['3']"
   ]
  },
  {
   "cell_type": "code",
   "execution_count": 50,
   "id": "8a0bae23-d104-4d5b-9551-8dcad00835fb",
   "metadata": {
    "tags": []
   },
   "outputs": [
    {
     "data": {
      "text/plain": [
       "6"
      ]
     },
     "execution_count": 50,
     "metadata": {},
     "output_type": "execute_result"
    }
   ],
   "source": [
    "len(data['4'][\"nl_queries\"])"
   ]
  },
  {
   "cell_type": "code",
   "execution_count": 51,
   "id": "4d9ecc67-1f58-4f8c-9c80-29772cef1cb8",
   "metadata": {},
   "outputs": [],
   "source": [
    "total  = 0\n",
    "\n",
    "for k, v in data.items():\n",
    "    total += len(v[\"nl_queries\"])"
   ]
  },
  {
   "cell_type": "code",
   "execution_count": 52,
   "id": "a2e50af0-632e-46fc-b7a0-4b7f799e53e9",
   "metadata": {},
   "outputs": [
    {
     "data": {
      "text/plain": [
       "25762"
      ]
     },
     "execution_count": 52,
     "metadata": {},
     "output_type": "execute_result"
    }
   ],
   "source": [
    "total"
   ]
  },
  {
   "cell_type": "code",
   "execution_count": null,
   "id": "eabf639c-8b04-4597-9211-5dde51588602",
   "metadata": {},
   "outputs": [],
   "source": [
    "# cnx = sqlite3.connect(db_url)\n",
    "# df = pd.read_sql_query(\"SELECT * FROM \" + table_name, cnx)"
   ]
  },
  {
   "cell_type": "code",
   "execution_count": 53,
   "id": "a6455cd6-160a-4514-a365-0039ab4e56d8",
   "metadata": {},
   "outputs": [
    {
     "data": {
      "text/plain": [
       "3.5548502828756727"
      ]
     },
     "execution_count": 53,
     "metadata": {},
     "output_type": "execute_result"
    }
   ],
   "source": [
    "25762 / 7247"
   ]
  },
  {
   "cell_type": "code",
   "execution_count": 117,
   "id": "70bc8f5f-96dc-4bbd-98d3-aa0bb2c08449",
   "metadata": {},
   "outputs": [
    {
     "data": {
      "text/plain": [
       "'<N> For those employees whose salary is in the range of 8000 and 12000 and commission is not null or department number does not equal to 40 , draw a line chart about the change of department_id over hire_date , display by the X from low to high . </N> <C> mark [T] data employees encoding x [X] y aggregate [AggFunction] [Y] color [Z] transform filter [F] group [G] bin [B] sort [S] topk [K] </C> <D> employees <COL> hire_date salary department_id last_name first_name </COL> <VAL> Bull Lex Seo Bell Chen Lee Gee Banda King Baer Fay </VAL> </D>'"
      ]
     },
     "execution_count": 117,
     "metadata": {},
     "output_type": "execute_result"
    }
   ],
   "source": [
    "train_df[train_df[\"source\"].str.contains(\"those employees whose salary is in the range of 8000 and 12000 and commission is not null\")][\"source\"].iloc[0]"
   ]
  },
  {
   "cell_type": "code",
   "execution_count": 112,
   "id": "493c9d5a-7d40-4d3b-aca9-5f3d4807a9a7",
   "metadata": {},
   "outputs": [
    {
     "data": {
      "text/html": [
       "<div>\n",
       "<style scoped>\n",
       "    .dataframe tbody tr th:only-of-type {\n",
       "        vertical-align: middle;\n",
       "    }\n",
       "\n",
       "    .dataframe tbody tr th {\n",
       "        vertical-align: top;\n",
       "    }\n",
       "\n",
       "    .dataframe thead th {\n",
       "        text-align: right;\n",
       "    }\n",
       "</style>\n",
       "<table border=\"1\" class=\"dataframe\">\n",
       "  <thead>\n",
       "    <tr style=\"text-align: right;\">\n",
       "      <th></th>\n",
       "      <th>source</th>\n",
       "      <th>token_types</th>\n",
       "    </tr>\n",
       "    <tr>\n",
       "      <th>labels</th>\n",
       "      <th></th>\n",
       "      <th></th>\n",
       "    </tr>\n",
       "  </thead>\n",
       "  <tbody>\n",
       "    <tr>\n",
       "      <th>mark bar data employees encoding x hire_date y aggregate count hire_date transform filter salary between 8000 and 12000 and commission_pct != \"null\" or department_id != 40 bin x by month</th>\n",
       "      <td>10</td>\n",
       "      <td>10</td>\n",
       "    </tr>\n",
       "    <tr>\n",
       "      <th>mark bar data employees encoding x hire_date y aggregate count hire_date transform filter salary between 8000 and 12000 and commission_pct != \"null\" or department_id != 40 sort y asc bin x by month</th>\n",
       "      <td>10</td>\n",
       "      <td>10</td>\n",
       "    </tr>\n",
       "    <tr>\n",
       "      <th>mark bar data employees encoding x hire_date y aggregate count hire_date transform filter salary between 8000 and 12000 and commission_pct != \"null\" or department_id != 40 sort y desc bin x by month</th>\n",
       "      <td>10</td>\n",
       "      <td>10</td>\n",
       "    </tr>\n",
       "    <tr>\n",
       "      <th>mark bar data employees encoding x hire_date y aggregate mean department_id transform filter salary between 8000 and 12000 and commission_pct != \"null\" or department_id != 40 bin x by weekday</th>\n",
       "      <td>10</td>\n",
       "      <td>10</td>\n",
       "    </tr>\n",
       "    <tr>\n",
       "      <th>mark bar data employees encoding x hire_date y aggregate mean department_id transform filter salary between 8000 and 12000 and commission_pct != \"null\" or department_id != 40 sort y asc bin x by weekday</th>\n",
       "      <td>10</td>\n",
       "      <td>10</td>\n",
       "    </tr>\n",
       "    <tr>\n",
       "      <th>...</th>\n",
       "      <td>...</td>\n",
       "      <td>...</td>\n",
       "    </tr>\n",
       "    <tr>\n",
       "      <th>mark point data employees encoding x employee_id y aggregate none manager_id transform filter salary between 8000 and 12000 and commission_pct != \"null\" or department_id != 40</th>\n",
       "      <td>10</td>\n",
       "      <td>10</td>\n",
       "    </tr>\n",
       "    <tr>\n",
       "      <th>mark point data employees encoding x employee_id y aggregate none salary transform filter salary between 8000 and 12000 and commission_pct != \"null\" or department_id != 40</th>\n",
       "      <td>10</td>\n",
       "      <td>10</td>\n",
       "    </tr>\n",
       "    <tr>\n",
       "      <th>mark point data employees encoding x manager_id y aggregate none department_id transform filter salary between 8000 and 12000 and commission_pct != \"null\" or department_id != 40</th>\n",
       "      <td>10</td>\n",
       "      <td>10</td>\n",
       "    </tr>\n",
       "    <tr>\n",
       "      <th>mark point data employees encoding x salary y aggregate none commission_pct transform filter salary between 8000 and 12000 and commission_pct != \"null\" or department_id != 40</th>\n",
       "      <td>10</td>\n",
       "      <td>10</td>\n",
       "    </tr>\n",
       "    <tr>\n",
       "      <th>mark point data employees encoding x salary y aggregate none manager_id transform filter salary between 8000 and 12000 and commission_pct != \"null\" or department_id != 40</th>\n",
       "      <td>10</td>\n",
       "      <td>10</td>\n",
       "    </tr>\n",
       "  </tbody>\n",
       "</table>\n",
       "<p>96 rows × 2 columns</p>\n",
       "</div>"
      ],
      "text/plain": [
       "                                                    source  token_types\n",
       "labels                                                                 \n",
       "mark bar data employees encoding x hire_date y ...      10           10\n",
       "mark bar data employees encoding x hire_date y ...      10           10\n",
       "mark bar data employees encoding x hire_date y ...      10           10\n",
       "mark bar data employees encoding x hire_date y ...      10           10\n",
       "mark bar data employees encoding x hire_date y ...      10           10\n",
       "...                                                    ...          ...\n",
       "mark point data employees encoding x employee_i...      10           10\n",
       "mark point data employees encoding x employee_i...      10           10\n",
       "mark point data employees encoding x manager_id...      10           10\n",
       "mark point data employees encoding x salary y a...      10           10\n",
       "mark point data employees encoding x salary y a...      10           10\n",
       "\n",
       "[96 rows x 2 columns]"
      ]
     },
     "execution_count": 112,
     "metadata": {},
     "output_type": "execute_result"
    }
   ],
   "source": [
    "train_df[train_df[\"source\"].str.contains(\"those employees whose salary is in the range of 8000 and 12000 and commission is not null\")].groupby(\"labels\").count()"
   ]
  },
  {
   "cell_type": "code",
   "execution_count": 109,
   "id": "3787687c-3ce1-4b47-98bf-a5bfb847f920",
   "metadata": {},
   "outputs": [
    {
     "data": {
      "text/plain": [
       "'<N> For those employees whose salary is in the range of 8000 and 12000 and commission is not null or department number does not equal to 40 , draw a line chart about the change of department_id over hire_date , display by the X from low to high . </N> <C> mark [T] data employees encoding x [X] y aggregate [AggFunction] [Y] color [Z] transform filter [F] group [G] bin [B] sort [S] topk [K] </C> <D> employees <COL> hire_date salary department_id last_name first_name </COL> <VAL> Bull Lex Seo Bell Chen Lee Gee Banda King Baer Fay </VAL> </D>'"
      ]
     },
     "execution_count": 109,
     "metadata": {},
     "output_type": "execute_result"
    }
   ],
   "source": [
    "train_df[train_df[\"source\"].str.contains(\"those employees whose salary is in the range of 8000 and 12000 and commission is not null\")][\"source\"].iloc[0]"
   ]
  },
  {
   "cell_type": "code",
   "execution_count": 63,
   "id": "20394c98-b54a-4cb8-a382-5435cf8474bc",
   "metadata": {},
   "outputs": [
    {
     "data": {
      "text/plain": [
       "'<N> Bar chart x axis product name y axis how many product name , rank by the Y-axis in desc . </N> <C> mark [T] data products encoding x [X] y aggregate [AggFunction] [Y] color [Z] transform filter [F] group [G] bin [B] sort [S] topk [K] </C> <D> products <COL> product_name </COL> <VAL> Sony </VAL> </D>'"
      ]
     },
     "execution_count": 63,
     "metadata": {},
     "output_type": "execute_result"
    }
   ],
   "source": [
    "train_df[\"source\"][0]"
   ]
  },
  {
   "cell_type": "code",
   "execution_count": 73,
   "id": "2873a89f-e89a-4089-ab38-5725d28f85a0",
   "metadata": {},
   "outputs": [],
   "source": [
    "r1 = train_df.groupby(\"labels\").count()"
   ]
  },
  {
   "cell_type": "code",
   "execution_count": 75,
   "id": "0f648793-b6ba-4243-8a06-f2ebc3819ea7",
   "metadata": {},
   "outputs": [
    {
     "data": {
      "text/plain": [
       "2988"
      ]
     },
     "execution_count": 75,
     "metadata": {},
     "output_type": "execute_result"
    }
   ],
   "source": [
    "len(r1)"
   ]
  },
  {
   "cell_type": "code",
   "execution_count": 76,
   "id": "fcdeb33e-a4f4-4b45-80aa-ecf2976b1f41",
   "metadata": {},
   "outputs": [],
   "source": [
    "r2 = test_df.groupby(\"labels\").count()"
   ]
  },
  {
   "cell_type": "code",
   "execution_count": 77,
   "id": "f2deaf9d-fcf2-4088-8449-92bbb411356c",
   "metadata": {},
   "outputs": [
    {
     "data": {
      "text/plain": [
       "625"
      ]
     },
     "execution_count": 77,
     "metadata": {},
     "output_type": "execute_result"
    }
   ],
   "source": [
    "len(r2)"
   ]
  },
  {
   "cell_type": "code",
   "execution_count": 78,
   "id": "9633538a-d666-4dad-94f2-69c183f9053a",
   "metadata": {},
   "outputs": [],
   "source": [
    "r3 = validation_df.groupby(\"labels\").count()"
   ]
  },
  {
   "cell_type": "code",
   "execution_count": 79,
   "id": "aee61e18-36f8-41ef-b00a-a6c0d98eb566",
   "metadata": {},
   "outputs": [
    {
     "data": {
      "text/plain": [
       "186"
      ]
     },
     "execution_count": 79,
     "metadata": {},
     "output_type": "execute_result"
    }
   ],
   "source": [
    "len(r3)"
   ]
  },
  {
   "cell_type": "code",
   "execution_count": 80,
   "id": "964e6d0d-69b4-4a49-b21f-26737594f58c",
   "metadata": {},
   "outputs": [
    {
     "data": {
      "text/plain": [
       "3799"
      ]
     },
     "execution_count": 80,
     "metadata": {},
     "output_type": "execute_result"
    }
   ],
   "source": [
    "2988+186+625"
   ]
  },
  {
   "cell_type": "code",
   "execution_count": 98,
   "id": "185f14d0-cacd-4e1e-ae8d-de7e2cc8c709",
   "metadata": {},
   "outputs": [],
   "source": [
    "train_df.groupby(\"labels\").count().to_clipboard()"
   ]
  },
  {
   "cell_type": "code",
   "execution_count": 118,
   "id": "7c801f9b-7ddf-4335-9b1b-d1f6cfcfeaa5",
   "metadata": {},
   "outputs": [
    {
     "data": {
      "text/plain": [
       "25238"
      ]
     },
     "execution_count": 118,
     "metadata": {},
     "output_type": "execute_result"
    }
   ],
   "source": [
    "len(train_df)"
   ]
  },
  {
   "cell_type": "code",
   "execution_count": 119,
   "id": "87fb7089-0ed6-4f5f-99b2-821ce53ccd65",
   "metadata": {},
   "outputs": [
    {
     "data": {
      "text/plain": [
       "1430"
      ]
     },
     "execution_count": 119,
     "metadata": {},
     "output_type": "execute_result"
    }
   ],
   "source": [
    "len(validation_df)"
   ]
  },
  {
   "cell_type": "code",
   "execution_count": 121,
   "id": "b31750de-b499-48d3-9494-09c8ae2f0619",
   "metadata": {},
   "outputs": [
    {
     "data": {
      "text/plain": [
       "4920"
      ]
     },
     "execution_count": 121,
     "metadata": {},
     "output_type": "execute_result"
    }
   ],
   "source": [
    "len(test_df)"
   ]
  },
  {
   "cell_type": "code",
   "execution_count": null,
   "id": "0a8d0ac1-ba4e-498d-b585-234f24765e26",
   "metadata": {},
   "outputs": [],
   "source": []
  }
 ],
 "metadata": {
  "kernelspec": {
   "display_name": "Python 3 (ipykernel)",
   "language": "python",
   "name": "python3"
  },
  "language_info": {
   "codemirror_mode": {
    "name": "ipython",
    "version": 3
   },
   "file_extension": ".py",
   "mimetype": "text/x-python",
   "name": "python",
   "nbconvert_exporter": "python",
   "pygments_lexer": "ipython3",
   "version": "3.9.1"
  }
 },
 "nbformat": 4,
 "nbformat_minor": 5
}
